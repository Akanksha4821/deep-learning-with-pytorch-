{
  "nbformat": 4,
  "nbformat_minor": 0,
  "metadata": {
    "colab": {
      "provenance": [],
      "gpuType": "T4"
    },
    "kernelspec": {
      "name": "python3",
      "display_name": "Python 3"
    },
    "language_info": {
      "name": "python"
    },
    "accelerator": "GPU"
  },
  "cells": [
    {
      "cell_type": "code",
      "execution_count": null,
      "metadata": {
        "colab": {
          "base_uri": "https://localhost:8080/"
        },
        "id": "FajO0q9fRYKX",
        "outputId": "da35addd-5aa5-4a80-8228-5abade14e94c"
      },
      "outputs": [
        {
          "output_type": "stream",
          "name": "stdout",
          "text": [
            "hello\n"
          ]
        }
      ],
      "source": [
        "print(\"hello\")"
      ]
    },
    {
      "cell_type": "code",
      "source": [
        "import torch\n",
        "import pandas as pd\n",
        "import numpy as np\n",
        "import matplotlib.pyplot as plt\n",
        "import seaborn as sns"
      ],
      "metadata": {
        "id": "yIKTX_G-R1vn"
      },
      "execution_count": null,
      "outputs": []
    },
    {
      "cell_type": "code",
      "source": [
        "print(torch.__version__)"
      ],
      "metadata": {
        "colab": {
          "base_uri": "https://localhost:8080/"
        },
        "id": "Elggu4nyTdva",
        "outputId": "f11dc3b0-f508-4364-9f68-995cb504fe74"
      },
      "execution_count": null,
      "outputs": [
        {
          "output_type": "stream",
          "name": "stdout",
          "text": [
            "2.6.0+cu124\n"
          ]
        }
      ]
    },
    {
      "cell_type": "markdown",
      "source": [
        "**Introduction to tensors**\n",
        " 1. creating tensors\n",
        "\n",
        "     pytorch tensors are created using torch.tensor"
      ],
      "metadata": {
        "id": "0LgijVtEYvfx"
      }
    },
    {
      "cell_type": "code",
      "source": [
        "#scalar\n",
        "scalar=torch.tensor(7)\n",
        "scalar"
      ],
      "metadata": {
        "colab": {
          "base_uri": "https://localhost:8080/"
        },
        "id": "MAOKyINHY0JF",
        "outputId": "17a5833a-ccd6-4809-a92e-33fbe82d4fdd"
      },
      "execution_count": null,
      "outputs": [
        {
          "output_type": "execute_result",
          "data": {
            "text/plain": [
              "tensor(7)"
            ]
          },
          "metadata": {},
          "execution_count": 4
        }
      ]
    },
    {
      "cell_type": "code",
      "source": [
        "#dimension in a scalar tensor\n",
        "scalar.ndim"
      ],
      "metadata": {
        "colab": {
          "base_uri": "https://localhost:8080/"
        },
        "id": "GZi8-IivbGi5",
        "outputId": "1e661ecd-6ed7-46de-9dba-8dea9238da4e"
      },
      "execution_count": null,
      "outputs": [
        {
          "output_type": "execute_result",
          "data": {
            "text/plain": [
              "0"
            ]
          },
          "metadata": {},
          "execution_count": 5
        }
      ]
    },
    {
      "cell_type": "code",
      "source": [
        "#get tensor back as python int\n",
        "scalar.item()"
      ],
      "metadata": {
        "colab": {
          "base_uri": "https://localhost:8080/"
        },
        "id": "z3f9A34RbkuX",
        "outputId": "822cd3cd-5279-4a0f-b619-7444a521d2d3"
      },
      "execution_count": null,
      "outputs": [
        {
          "output_type": "execute_result",
          "data": {
            "text/plain": [
              "7"
            ]
          },
          "metadata": {},
          "execution_count": 6
        }
      ]
    },
    {
      "cell_type": "code",
      "source": [
        "#vector\n",
        "vector=torch.tensor([7,7])\n",
        "vector"
      ],
      "metadata": {
        "colab": {
          "base_uri": "https://localhost:8080/"
        },
        "id": "y_K94glhggWe",
        "outputId": "8e80b35f-05db-494c-f3f7-731cd5381b46"
      },
      "execution_count": null,
      "outputs": [
        {
          "output_type": "execute_result",
          "data": {
            "text/plain": [
              "tensor([7, 7])"
            ]
          },
          "metadata": {},
          "execution_count": 7
        }
      ]
    },
    {
      "cell_type": "code",
      "source": [
        "#dimension in vector tensor\n",
        "vector.ndim"
      ],
      "metadata": {
        "colab": {
          "base_uri": "https://localhost:8080/"
        },
        "id": "Mr1iVioQgl5y",
        "outputId": "ea217d67-c01f-4b79-908a-2812c4391cd1"
      },
      "execution_count": null,
      "outputs": [
        {
          "output_type": "execute_result",
          "data": {
            "text/plain": [
              "1"
            ]
          },
          "metadata": {},
          "execution_count": 8
        }
      ]
    },
    {
      "cell_type": "code",
      "source": [
        "#it has 2 elements in 1 dimension.\n",
        "vector.shape"
      ],
      "metadata": {
        "colab": {
          "base_uri": "https://localhost:8080/"
        },
        "id": "bTEJ1LxQlRPC",
        "outputId": "d0747fcf-2805-42ff-e408-a03b9e74e7ed"
      },
      "execution_count": null,
      "outputs": [
        {
          "output_type": "execute_result",
          "data": {
            "text/plain": [
              "torch.Size([2])"
            ]
          },
          "metadata": {},
          "execution_count": 9
        }
      ]
    },
    {
      "cell_type": "code",
      "source": [
        "#MATRIX\n",
        "MATRIX=torch.tensor([[7,8],\n",
        "                   [9,10]])\n",
        "MATRIX"
      ],
      "metadata": {
        "colab": {
          "base_uri": "https://localhost:8080/"
        },
        "id": "7m4AiOBAsnPD",
        "outputId": "2b05ecad-5501-4ee9-f02f-f8d156ee062a"
      },
      "execution_count": null,
      "outputs": [
        {
          "output_type": "execute_result",
          "data": {
            "text/plain": [
              "tensor([[ 7,  8],\n",
              "        [ 9, 10]])"
            ]
          },
          "metadata": {},
          "execution_count": 10
        }
      ]
    },
    {
      "cell_type": "code",
      "source": [
        "MATRIX.ndim"
      ],
      "metadata": {
        "colab": {
          "base_uri": "https://localhost:8080/"
        },
        "id": "gp_M9xFxt8uG",
        "outputId": "47f5676e-af76-460d-b82b-eff6632f1ec5"
      },
      "execution_count": null,
      "outputs": [
        {
          "output_type": "execute_result",
          "data": {
            "text/plain": [
              "2"
            ]
          },
          "metadata": {},
          "execution_count": 11
        }
      ]
    },
    {
      "cell_type": "code",
      "source": [
        "MATRIX.shape"
      ],
      "metadata": {
        "colab": {
          "base_uri": "https://localhost:8080/"
        },
        "id": "U7ZxlsW_uECD",
        "outputId": "79960520-a0e9-428e-80d1-2f857ebdc12b"
      },
      "execution_count": null,
      "outputs": [
        {
          "output_type": "execute_result",
          "data": {
            "text/plain": [
              "torch.Size([2, 2])"
            ]
          },
          "metadata": {},
          "execution_count": 12
        }
      ]
    },
    {
      "cell_type": "code",
      "source": [
        "MATRIX[0]"
      ],
      "metadata": {
        "colab": {
          "base_uri": "https://localhost:8080/"
        },
        "id": "mUvxK9BvuLQV",
        "outputId": "ac697377-2387-4e3c-847a-503400edda41"
      },
      "execution_count": null,
      "outputs": [
        {
          "output_type": "execute_result",
          "data": {
            "text/plain": [
              "tensor([7, 8])"
            ]
          },
          "metadata": {},
          "execution_count": 13
        }
      ]
    },
    {
      "cell_type": "code",
      "source": [
        "#TENSOR\n",
        "TENSOR=torch.tensor([[[1,2,3],[4,5,6],[7,8,9]]])\n",
        "TENSOR"
      ],
      "metadata": {
        "colab": {
          "base_uri": "https://localhost:8080/"
        },
        "id": "CwiRz1Q_uWxE",
        "outputId": "37d6d734-8646-4a8f-fe88-90ec65d6c815"
      },
      "execution_count": null,
      "outputs": [
        {
          "output_type": "execute_result",
          "data": {
            "text/plain": [
              "tensor([[[1, 2, 3],\n",
              "         [4, 5, 6],\n",
              "         [7, 8, 9]]])"
            ]
          },
          "metadata": {},
          "execution_count": 14
        }
      ]
    },
    {
      "cell_type": "code",
      "source": [
        "TENSOR.ndim"
      ],
      "metadata": {
        "colab": {
          "base_uri": "https://localhost:8080/"
        },
        "id": "S5wlKH0XvNrW",
        "outputId": "1f44d9ed-98a1-44d7-dd60-fcd8ca5aa21f"
      },
      "execution_count": null,
      "outputs": [
        {
          "output_type": "execute_result",
          "data": {
            "text/plain": [
              "3"
            ]
          },
          "metadata": {},
          "execution_count": 15
        }
      ]
    },
    {
      "cell_type": "code",
      "source": [
        "#we have 1 3x3 TENSOR\n",
        "TENSOR.shape"
      ],
      "metadata": {
        "colab": {
          "base_uri": "https://localhost:8080/"
        },
        "id": "7ya6kG66vTXN",
        "outputId": "cea0a312-a6e8-459f-e034-ae66c7206df6"
      },
      "execution_count": null,
      "outputs": [
        {
          "output_type": "execute_result",
          "data": {
            "text/plain": [
              "torch.Size([1, 3, 3])"
            ]
          },
          "metadata": {},
          "execution_count": 16
        }
      ]
    },
    {
      "cell_type": "code",
      "source": [
        "TENSOR[0]"
      ],
      "metadata": {
        "colab": {
          "base_uri": "https://localhost:8080/"
        },
        "id": "m3E2OhZDvj_7",
        "outputId": "eed52fb2-41d6-4a54-f0a4-bc8493283431"
      },
      "execution_count": null,
      "outputs": [
        {
          "output_type": "execute_result",
          "data": {
            "text/plain": [
              "tensor([[1, 2, 3],\n",
              "        [4, 5, 6],\n",
              "        [7, 8, 9]])"
            ]
          },
          "metadata": {},
          "execution_count": 17
        }
      ]
    },
    {
      "cell_type": "code",
      "source": [
        "TENSOR[0][2]"
      ],
      "metadata": {
        "colab": {
          "base_uri": "https://localhost:8080/"
        },
        "id": "tEgPKgXsv-k1",
        "outputId": "22d38463-ce6f-4bea-8e76-47137719b3d4"
      },
      "execution_count": null,
      "outputs": [
        {
          "output_type": "execute_result",
          "data": {
            "text/plain": [
              "tensor([7, 8, 9])"
            ]
          },
          "metadata": {},
          "execution_count": 18
        }
      ]
    },
    {
      "cell_type": "code",
      "source": [
        "TENSOR[0][1][2]"
      ],
      "metadata": {
        "colab": {
          "base_uri": "https://localhost:8080/"
        },
        "id": "NR_poptXwdl7",
        "outputId": "db9454c0-ce90-4e37-eb12-4d0679751c7a"
      },
      "execution_count": null,
      "outputs": [
        {
          "output_type": "execute_result",
          "data": {
            "text/plain": [
              "tensor(6)"
            ]
          },
          "metadata": {},
          "execution_count": 19
        }
      ]
    },
    {
      "cell_type": "code",
      "source": [
        "TENSOR1=torch.tensor([[[1]]])\n",
        "print(TENSOR1)\n",
        "print(TENSOR1.ndim)\n",
        "print(TENSOR1.shape)"
      ],
      "metadata": {
        "colab": {
          "base_uri": "https://localhost:8080/"
        },
        "id": "B69hJvZc0HD0",
        "outputId": "4b8ccc6b-4031-4888-9b3a-1f5b735f3f43"
      },
      "execution_count": null,
      "outputs": [
        {
          "output_type": "stream",
          "name": "stdout",
          "text": [
            "tensor([[[1]]])\n",
            "3\n",
            "torch.Size([1, 1, 1])\n"
          ]
        }
      ]
    },
    {
      "cell_type": "code",
      "source": [
        "TENSOR2 = torch.tensor([\n",
        "    [ [1, 2, 3],\n",
        "      [1, 2, 4],\n",
        "      [4, 4, 5] ],\n",
        "\n",
        "    [ [3, 2, 1],\n",
        "      [4, 3, 2],\n",
        "      [5, 5, 5] ],\n",
        "\n",
        "    [ [4, 2, 5],\n",
        "      [2, 4, 3],\n",
        "      [2, 4, 5] ]\n",
        "])\n",
        "print(TENSOR2)\n",
        "print(TENSOR2.ndim)\n",
        "print(TENSOR2.shape)"
      ],
      "metadata": {
        "colab": {
          "base_uri": "https://localhost:8080/"
        },
        "id": "Hhlvq7ik1Ffx",
        "outputId": "9d0006cb-1684-4552-ff0e-cd3272b7341d"
      },
      "execution_count": null,
      "outputs": [
        {
          "output_type": "stream",
          "name": "stdout",
          "text": [
            "tensor([[[1, 2, 3],\n",
            "         [1, 2, 4],\n",
            "         [4, 4, 5]],\n",
            "\n",
            "        [[3, 2, 1],\n",
            "         [4, 3, 2],\n",
            "         [5, 5, 5]],\n",
            "\n",
            "        [[4, 2, 5],\n",
            "         [2, 4, 3],\n",
            "         [2, 4, 5]]])\n",
            "3\n",
            "torch.Size([3, 3, 3])\n"
          ]
        }
      ]
    },
    {
      "cell_type": "code",
      "source": [
        "TENSOR2[2][2][1]"
      ],
      "metadata": {
        "colab": {
          "base_uri": "https://localhost:8080/"
        },
        "id": "LyOkhDTF133u",
        "outputId": "95cf3879-f021-4793-b820-0f7677b807eb"
      },
      "execution_count": null,
      "outputs": [
        {
          "output_type": "execute_result",
          "data": {
            "text/plain": [
              "tensor(4)"
            ]
          },
          "metadata": {},
          "execution_count": 22
        }
      ]
    },
    {
      "cell_type": "markdown",
      "source": [
        "**Random tensors**\n",
        "\n",
        "Random tensors are important because the way many neural networks learn is that they start with tensors full of rndom numbers and then adjust those random numbers to better represent the data.\n",
        "\n",
        "start with random number->look at data->update random number->look at data->uodate random numbers..."
      ],
      "metadata": {
        "id": "wyCYCKk9q2ns"
      }
    },
    {
      "cell_type": "code",
      "source": [
        "#create a random tensor of size(3,4)\n",
        "random_tensor=torch.rand(3,4)\n",
        "random_tensor"
      ],
      "metadata": {
        "colab": {
          "base_uri": "https://localhost:8080/"
        },
        "id": "NdwsuvICqap8",
        "outputId": "9b031fb3-9802-44a8-ae73-61c1f8bd0fef"
      },
      "execution_count": null,
      "outputs": [
        {
          "output_type": "execute_result",
          "data": {
            "text/plain": [
              "tensor([[0.8557, 0.6773, 0.2824, 0.3601],\n",
              "        [0.5710, 0.8815, 0.2038, 0.5136],\n",
              "        [0.7455, 0.6079, 0.0398, 0.8270]])"
            ]
          },
          "metadata": {},
          "execution_count": 23
        }
      ]
    },
    {
      "cell_type": "code",
      "source": [
        "random_tensor.ndim"
      ],
      "metadata": {
        "colab": {
          "base_uri": "https://localhost:8080/"
        },
        "id": "p9cRkN8essaw",
        "outputId": "b4463c64-a68f-47f0-eb16-125e15d9461d"
      },
      "execution_count": null,
      "outputs": [
        {
          "output_type": "execute_result",
          "data": {
            "text/plain": [
              "2"
            ]
          },
          "metadata": {},
          "execution_count": 24
        }
      ]
    },
    {
      "cell_type": "code",
      "source": [
        "#crete a random tensor with similar shape to an image tensor,size parameter is implicit\n",
        "random_image_size_tensor=torch.rand(size=(224,224,3))     #height,width,channels\n",
        "random_image_size_tensor.shape,random_image_size_tensor.ndim"
      ],
      "metadata": {
        "colab": {
          "base_uri": "https://localhost:8080/"
        },
        "id": "l9NCt5t4s0QN",
        "outputId": "15c77ec2-49e8-4563-be08-4a765a22d938"
      },
      "execution_count": null,
      "outputs": [
        {
          "output_type": "execute_result",
          "data": {
            "text/plain": [
              "(torch.Size([224, 224, 3]), 3)"
            ]
          },
          "metadata": {},
          "execution_count": 25
        }
      ]
    },
    {
      "cell_type": "markdown",
      "source": [
        "zeros and ones"
      ],
      "metadata": {
        "id": "weGBejBAvGhH"
      }
    },
    {
      "cell_type": "code",
      "source": [
        "#create a tensor of all zeros\n",
        "zeros=torch.zeros(3,4)\n",
        "zeros"
      ],
      "metadata": {
        "colab": {
          "base_uri": "https://localhost:8080/"
        },
        "id": "9nFyJ-CPuf_B",
        "outputId": "c33d410d-5952-437a-ced7-ab873a7e2ca3"
      },
      "execution_count": null,
      "outputs": [
        {
          "output_type": "execute_result",
          "data": {
            "text/plain": [
              "tensor([[0., 0., 0., 0.],\n",
              "        [0., 0., 0., 0.],\n",
              "        [0., 0., 0., 0.]])"
            ]
          },
          "metadata": {},
          "execution_count": 26
        }
      ]
    },
    {
      "cell_type": "code",
      "source": [
        "#create a tensor of all ones\n",
        "ones=torch.ones(3,4)\n",
        "ones"
      ],
      "metadata": {
        "colab": {
          "base_uri": "https://localhost:8080/"
        },
        "id": "hcEuGIp94gsc",
        "outputId": "361d7144-0cef-4424-e661-1e3347295da8"
      },
      "execution_count": null,
      "outputs": [
        {
          "output_type": "execute_result",
          "data": {
            "text/plain": [
              "tensor([[1., 1., 1., 1.],\n",
              "        [1., 1., 1., 1.],\n",
              "        [1., 1., 1., 1.]])"
            ]
          },
          "metadata": {},
          "execution_count": 27
        }
      ]
    },
    {
      "cell_type": "code",
      "source": [
        "ones.dtype"
      ],
      "metadata": {
        "colab": {
          "base_uri": "https://localhost:8080/"
        },
        "id": "Iy0ceCgQ4slA",
        "outputId": "90c1196e-8010-4b7e-fbb8-e4be0314fd32"
      },
      "execution_count": null,
      "outputs": [
        {
          "output_type": "execute_result",
          "data": {
            "text/plain": [
              "torch.float32"
            ]
          },
          "metadata": {},
          "execution_count": 28
        }
      ]
    },
    {
      "cell_type": "markdown",
      "source": [
        "create a range of tensors and tensors-like\n"
      ],
      "metadata": {
        "id": "KySbc9wp5wDX"
      }
    },
    {
      "cell_type": "code",
      "source": [
        "torch.range(0,10)"
      ],
      "metadata": {
        "colab": {
          "base_uri": "https://localhost:8080/"
        },
        "id": "nGQvkhzM54AZ",
        "outputId": "445c2018-95bc-4d4c-df73-242b20694e79"
      },
      "execution_count": null,
      "outputs": [
        {
          "output_type": "stream",
          "name": "stderr",
          "text": [
            "<ipython-input-29-497691777>:1: UserWarning: torch.range is deprecated and will be removed in a future release because its behavior is inconsistent with Python's range builtin. Instead, use torch.arange, which produces values in [start, end).\n",
            "  torch.range(0,10)\n"
          ]
        },
        {
          "output_type": "execute_result",
          "data": {
            "text/plain": [
              "tensor([ 0.,  1.,  2.,  3.,  4.,  5.,  6.,  7.,  8.,  9., 10.])"
            ]
          },
          "metadata": {},
          "execution_count": 29
        }
      ]
    },
    {
      "cell_type": "code",
      "source": [
        "torch.arange(0,10)"
      ],
      "metadata": {
        "colab": {
          "base_uri": "https://localhost:8080/"
        },
        "id": "2d-mxCCU6FJz",
        "outputId": "4a714ec8-3dc1-418e-9f28-9bd9602dbed4"
      },
      "execution_count": null,
      "outputs": [
        {
          "output_type": "execute_result",
          "data": {
            "text/plain": [
              "tensor([0, 1, 2, 3, 4, 5, 6, 7, 8, 9])"
            ]
          },
          "metadata": {},
          "execution_count": 30
        }
      ]
    },
    {
      "cell_type": "code",
      "source": [
        "torch.arange(start=-1,end=1000,step=77)"
      ],
      "metadata": {
        "colab": {
          "base_uri": "https://localhost:8080/"
        },
        "id": "MXG-2_M-7ceN",
        "outputId": "e80a8e17-2963-4e6c-93a6-05549b2d12b5"
      },
      "execution_count": null,
      "outputs": [
        {
          "output_type": "execute_result",
          "data": {
            "text/plain": [
              "tensor([ -1,  76, 153, 230, 307, 384, 461, 538, 615, 692, 769, 846, 923])"
            ]
          },
          "metadata": {},
          "execution_count": 31
        }
      ]
    },
    {
      "cell_type": "code",
      "source": [
        "one_to_ten=torch.arange(start=1,end=11,step=1)\n",
        "one_to_ten"
      ],
      "metadata": {
        "colab": {
          "base_uri": "https://localhost:8080/"
        },
        "id": "FN097kzR8fS6",
        "outputId": "e85cf242-93a3-44b2-c2de-bb0f262789c6"
      },
      "execution_count": null,
      "outputs": [
        {
          "output_type": "execute_result",
          "data": {
            "text/plain": [
              "tensor([ 1,  2,  3,  4,  5,  6,  7,  8,  9, 10])"
            ]
          },
          "metadata": {},
          "execution_count": 32
        }
      ]
    },
    {
      "cell_type": "code",
      "source": [
        "#creating tensors like, same shape like a tensor you want to be  but value 0\n",
        "ten_zeros=torch.zeros_like(input=one_to_ten)\n",
        "print(ten_zeros)\n",
        "ten_zeros.ndim"
      ],
      "metadata": {
        "colab": {
          "base_uri": "https://localhost:8080/"
        },
        "id": "fYnwQ2VB73zq",
        "outputId": "d22da3b2-fbdd-42e3-9e93-3fd2d12e3cdf"
      },
      "execution_count": null,
      "outputs": [
        {
          "output_type": "stream",
          "name": "stdout",
          "text": [
            "tensor([0, 0, 0, 0, 0, 0, 0, 0, 0, 0])\n"
          ]
        },
        {
          "output_type": "execute_result",
          "data": {
            "text/plain": [
              "1"
            ]
          },
          "metadata": {},
          "execution_count": 33
        }
      ]
    },
    {
      "cell_type": "markdown",
      "source": [
        "Tensor datatypes\n"
      ],
      "metadata": {
        "id": "cNvfcbMZ9ip-"
      }
    },
    {
      "cell_type": "code",
      "source": [
        "#float 32 tensor\n",
        "float_32_tensor=torch.tensor([3.0,6.0,9.0],dtype=None)\n",
        "float_32_tensor"
      ],
      "metadata": {
        "colab": {
          "base_uri": "https://localhost:8080/"
        },
        "id": "szsroLxC73ns",
        "outputId": "a7f16303-22b6-41f0-de48-c6d5f99d6252"
      },
      "execution_count": null,
      "outputs": [
        {
          "output_type": "execute_result",
          "data": {
            "text/plain": [
              "tensor([3., 6., 9.])"
            ]
          },
          "metadata": {},
          "execution_count": 34
        }
      ]
    },
    {
      "cell_type": "code",
      "source": [
        "float_32_tensor.dtype  # default datatype of a tensor is float 32 even if we mention dtype as none"
      ],
      "metadata": {
        "colab": {
          "base_uri": "https://localhost:8080/"
        },
        "id": "-40Fw1EqAdhW",
        "outputId": "07f31edc-bfcf-414b-b66e-c6862f26b587"
      },
      "execution_count": null,
      "outputs": [
        {
          "output_type": "execute_result",
          "data": {
            "text/plain": [
              "torch.float32"
            ]
          },
          "metadata": {},
          "execution_count": 35
        }
      ]
    },
    {
      "cell_type": "code",
      "source": [
        "#int tensor\n",
        "int_tensor=torch.tensor([3.0,6.0,9.2],dtype=torch.int)\n",
        "int_tensor"
      ],
      "metadata": {
        "colab": {
          "base_uri": "https://localhost:8080/"
        },
        "id": "wnYTdP6UAkyQ",
        "outputId": "2038c7a7-93c5-43d4-b093-65f8fb16dd32"
      },
      "execution_count": null,
      "outputs": [
        {
          "output_type": "execute_result",
          "data": {
            "text/plain": [
              "tensor([3, 6, 9], dtype=torch.int32)"
            ]
          },
          "metadata": {},
          "execution_count": 68
        }
      ]
    },
    {
      "cell_type": "code",
      "source": [
        "#float 16 tensor\n",
        "float_16_tensor=torch.tensor([3.0,6.0,9.0],\n",
        "                             dtype=torch.float16,  #what datatype is the tensor\n",
        "                             device=None,           #cou,gou,etc, what device your tensor is on?\n",
        "                             requires_grad=False)   #hether or not to track gradients"
      ],
      "metadata": {
        "id": "AxLMBVf3B1zT"
      },
      "execution_count": null,
      "outputs": []
    },
    {
      "cell_type": "code",
      "source": [
        "floar_16_tensor=float_32_tensor.type(torch.float16)   #conversion\n",
        "float_16_tensor"
      ],
      "metadata": {
        "colab": {
          "base_uri": "https://localhost:8080/"
        },
        "id": "PrBhYCy0PZ71",
        "outputId": "64977c05-4897-4b30-ed4f-ca07ef9db419"
      },
      "execution_count": null,
      "outputs": [
        {
          "output_type": "execute_result",
          "data": {
            "text/plain": [
              "tensor([3., 6., 9.], dtype=torch.float16)"
            ]
          },
          "metadata": {},
          "execution_count": 38
        }
      ]
    },
    {
      "cell_type": "code",
      "source": [
        "float_16_tensor * float_32_tensor"
      ],
      "metadata": {
        "colab": {
          "base_uri": "https://localhost:8080/"
        },
        "id": "_zIbqlfBRR79",
        "outputId": "f10d4388-e075-4c4a-8f42-6d0251f958a4"
      },
      "execution_count": null,
      "outputs": [
        {
          "output_type": "execute_result",
          "data": {
            "text/plain": [
              "tensor([ 9., 36., 81.])"
            ]
          },
          "metadata": {},
          "execution_count": 39
        }
      ]
    },
    {
      "cell_type": "code",
      "source": [
        "int_32_tensor=torch.tensor([3,6,9], dtype=torch.int32)"
      ],
      "metadata": {
        "id": "ajRiJ8dzRR1Q"
      },
      "execution_count": null,
      "outputs": []
    },
    {
      "cell_type": "code",
      "source": [
        "float_32_tensor*int_32_tensor"
      ],
      "metadata": {
        "colab": {
          "base_uri": "https://localhost:8080/"
        },
        "id": "XU0XkHjJNev0",
        "outputId": "be5dee94-b229-421f-ae9a-1ffc88000c31"
      },
      "execution_count": null,
      "outputs": [
        {
          "output_type": "execute_result",
          "data": {
            "text/plain": [
              "tensor([ 9., 36., 81.])"
            ]
          },
          "metadata": {},
          "execution_count": 41
        }
      ]
    },
    {
      "cell_type": "markdown",
      "source": [
        "Getting information from tensor\n",
        "\n",
        "tensor attributes\n"
      ],
      "metadata": {
        "id": "y7Tc3u3eN_hI"
      }
    },
    {
      "cell_type": "code",
      "source": [
        "#to get data type from a tensor\n",
        "some_tensor=torch.rand(3,4)\n",
        "some_tensor\n",
        "print(f\"datatype of tensor: {some_tensor.dtype}\")"
      ],
      "metadata": {
        "colab": {
          "base_uri": "https://localhost:8080/"
        },
        "id": "6ANGCv84NpN8",
        "outputId": "bb976a60-d8c9-49c4-ad9d-be0bbf3ef859"
      },
      "execution_count": null,
      "outputs": [
        {
          "output_type": "stream",
          "name": "stdout",
          "text": [
            "datatype of tensor: torch.float32\n"
          ]
        }
      ]
    },
    {
      "cell_type": "code",
      "source": [
        "#to get shape from a tensor\n",
        "print(f\"shape of tensor is: {some_tensor.shape}\")"
      ],
      "metadata": {
        "colab": {
          "base_uri": "https://localhost:8080/"
        },
        "id": "CSX3lWWmWgbk",
        "outputId": "022810b7-3ca2-443b-efda-3a42fdb90069"
      },
      "execution_count": null,
      "outputs": [
        {
          "output_type": "stream",
          "name": "stdout",
          "text": [
            "shape of tensor is: torch.Size([3, 4])\n"
          ]
        }
      ]
    },
    {
      "cell_type": "code",
      "source": [
        "#to get device on which tensor is running\n",
        "print(f\"device of tensor is:{some_tensor.device}\")"
      ],
      "metadata": {
        "colab": {
          "base_uri": "https://localhost:8080/"
        },
        "id": "4-KgdumNWq75",
        "outputId": "227f7e5c-e8e4-444f-8adc-29777d53bd85"
      },
      "execution_count": null,
      "outputs": [
        {
          "output_type": "stream",
          "name": "stdout",
          "text": [
            "device of tensor is:cpu\n"
          ]
        }
      ]
    },
    {
      "cell_type": "markdown",
      "source": [
        "**manipulating tensors**\n",
        "(tensor operations include:)\n",
        "\n",
        "1.Addition\n",
        "\n",
        "2.subtraction\n",
        "\n",
        "3.multiplication(element-wise)\n",
        "\n",
        "4.division\n",
        "\n",
        "5.matrix multiplication"
      ],
      "metadata": {
        "id": "-ru0s88IXvr8"
      }
    },
    {
      "cell_type": "code",
      "source": [
        "#element wise addition\n",
        "tensor=torch.tensor([1,2,3])\n",
        "tensor+10"
      ],
      "metadata": {
        "colab": {
          "base_uri": "https://localhost:8080/"
        },
        "id": "uhEgOpoQX3HG",
        "outputId": "055cd6fe-f986-4411-8638-400532019fa1"
      },
      "execution_count": null,
      "outputs": [
        {
          "output_type": "execute_result",
          "data": {
            "text/plain": [
              "tensor([11, 12, 13])"
            ]
          },
          "metadata": {},
          "execution_count": 45
        }
      ]
    },
    {
      "cell_type": "code",
      "source": [
        "#elemnt wise multiplication\n",
        "tensor*10"
      ],
      "metadata": {
        "colab": {
          "base_uri": "https://localhost:8080/"
        },
        "id": "_p8tw5kfZnnv",
        "outputId": "1848de5c-f4e3-48b3-b714-e8e006dbad29"
      },
      "execution_count": null,
      "outputs": [
        {
          "output_type": "execute_result",
          "data": {
            "text/plain": [
              "tensor([10, 20, 30])"
            ]
          },
          "metadata": {},
          "execution_count": 46
        }
      ]
    },
    {
      "cell_type": "code",
      "source": [
        "#subtraction\n",
        "tensor-10"
      ],
      "metadata": {
        "colab": {
          "base_uri": "https://localhost:8080/"
        },
        "id": "yc66R2W7bDYp",
        "outputId": "0f9b6d0c-3e59-4bb2-d068-c4969b8bfee3"
      },
      "execution_count": null,
      "outputs": [
        {
          "output_type": "execute_result",
          "data": {
            "text/plain": [
              "tensor([-9, -8, -7])"
            ]
          },
          "metadata": {},
          "execution_count": 47
        }
      ]
    },
    {
      "cell_type": "code",
      "source": [
        "#pytorch in-built functions\n",
        "torch.mul(tensor,10)\n",
        "torch.add(tensor,10)\n",
        "torch.sub(tensor,10)"
      ],
      "metadata": {
        "colab": {
          "base_uri": "https://localhost:8080/"
        },
        "id": "2NGiGp7wbJcM",
        "outputId": "0fba646e-5a65-4193-d7bc-1f2be65e24c6"
      },
      "execution_count": null,
      "outputs": [
        {
          "output_type": "execute_result",
          "data": {
            "text/plain": [
              "tensor([-9, -8, -7])"
            ]
          },
          "metadata": {},
          "execution_count": 48
        }
      ]
    },
    {
      "cell_type": "code",
      "source": [
        "#matrix multiplication (dot product)\n",
        "print(tensor,\"*\",tensor)\n",
        "print(f\"equals: {tensor*tensor}\")   # * gives element wise multiplication\n",
        "torch.matmul(tensor,tensor)\n"
      ],
      "metadata": {
        "colab": {
          "base_uri": "https://localhost:8080/"
        },
        "id": "3LFsbOBnvdVh",
        "outputId": "612a0242-4cad-4e7a-ddc6-43b67511f0fb"
      },
      "execution_count": null,
      "outputs": [
        {
          "output_type": "stream",
          "name": "stdout",
          "text": [
            "tensor([1, 2, 3]) * tensor([1, 2, 3])\n",
            "equals: tensor([1, 4, 9])\n"
          ]
        },
        {
          "output_type": "execute_result",
          "data": {
            "text/plain": [
              "tensor(14)"
            ]
          },
          "metadata": {},
          "execution_count": 49
        }
      ]
    },
    {
      "cell_type": "code",
      "source": [
        "#matrix multiplication by hand\n",
        "value=0\n",
        "for i in range (len(tensor)):\n",
        "  value+=tensor[i] * tensor[i]\n",
        "print(value)"
      ],
      "metadata": {
        "colab": {
          "base_uri": "https://localhost:8080/"
        },
        "id": "87ryQcZ_02QI",
        "outputId": "39e8877e-b22f-48d6-8928-3290fde449a7"
      },
      "execution_count": null,
      "outputs": [
        {
          "output_type": "stream",
          "name": "stdout",
          "text": [
            "tensor(14)\n"
          ]
        }
      ]
    },
    {
      "cell_type": "code",
      "source": [
        "torch.matmul(torch.rand(3,2),torch.rand(3,2))   #very common error since the inner dimension does not match, which is necessary for matrix multiplication"
      ],
      "metadata": {
        "colab": {
          "base_uri": "https://localhost:8080/",
          "height": 159
        },
        "id": "ykQildlG16ge",
        "outputId": "0ff90b37-8b4c-4e8f-a10b-6c82949e7666"
      },
      "execution_count": null,
      "outputs": [
        {
          "output_type": "error",
          "ename": "RuntimeError",
          "evalue": "mat1 and mat2 shapes cannot be multiplied (3x2 and 3x2)",
          "traceback": [
            "\u001b[0;31m---------------------------------------------------------------------------\u001b[0m",
            "\u001b[0;31mRuntimeError\u001b[0m                              Traceback (most recent call last)",
            "\u001b[0;32m<ipython-input-51-1162064234>\u001b[0m in \u001b[0;36m<cell line: 0>\u001b[0;34m()\u001b[0m\n\u001b[0;32m----> 1\u001b[0;31m \u001b[0mtorch\u001b[0m\u001b[0;34m.\u001b[0m\u001b[0mmatmul\u001b[0m\u001b[0;34m(\u001b[0m\u001b[0mtorch\u001b[0m\u001b[0;34m.\u001b[0m\u001b[0mrand\u001b[0m\u001b[0;34m(\u001b[0m\u001b[0;36m3\u001b[0m\u001b[0;34m,\u001b[0m\u001b[0;36m2\u001b[0m\u001b[0;34m)\u001b[0m\u001b[0;34m,\u001b[0m\u001b[0mtorch\u001b[0m\u001b[0;34m.\u001b[0m\u001b[0mrand\u001b[0m\u001b[0;34m(\u001b[0m\u001b[0;36m3\u001b[0m\u001b[0;34m,\u001b[0m\u001b[0;36m2\u001b[0m\u001b[0;34m)\u001b[0m\u001b[0;34m)\u001b[0m   \u001b[0;31m#very common error since the inner dimension does not match, which is necessary for matrix multiplication\u001b[0m\u001b[0;34m\u001b[0m\u001b[0;34m\u001b[0m\u001b[0m\n\u001b[0m",
            "\u001b[0;31mRuntimeError\u001b[0m: mat1 and mat2 shapes cannot be multiplied (3x2 and 3x2)"
          ]
        }
      ]
    },
    {
      "cell_type": "code",
      "source": [
        "#shape errors=3x2 and 3x2\n",
        "#how to fix this? use transpose\n",
        "tensor_A= torch.tensor([[1,2],\n",
        "                        [3,4],\n",
        "                        [5,6]])\n",
        "tensor_B=torch.tensor([[7,10],\n",
        "                       [8,11],\n",
        "                       [9,12]])\n",
        "torch.mm(tensor_A,tensor_B)    #mm is equal to matmul"
      ],
      "metadata": {
        "colab": {
          "base_uri": "https://localhost:8080/",
          "height": 176
        },
        "id": "RfecTBma4QbT",
        "outputId": "f03df054-9fa9-4076-9578-7a180b71784b"
      },
      "execution_count": null,
      "outputs": [
        {
          "output_type": "error",
          "ename": "RuntimeError",
          "evalue": "mat1 and mat2 shapes cannot be multiplied (3x2 and 3x2)",
          "traceback": [
            "\u001b[0;31m---------------------------------------------------------------------------\u001b[0m",
            "\u001b[0;31mRuntimeError\u001b[0m                              Traceback (most recent call last)",
            "\u001b[0;32m<ipython-input-53-2465586507>\u001b[0m in \u001b[0;36m<cell line: 0>\u001b[0;34m()\u001b[0m\n\u001b[1;32m      7\u001b[0m                        \u001b[0;34m[\u001b[0m\u001b[0;36m8\u001b[0m\u001b[0;34m,\u001b[0m\u001b[0;36m11\u001b[0m\u001b[0;34m]\u001b[0m\u001b[0;34m,\u001b[0m\u001b[0;34m\u001b[0m\u001b[0;34m\u001b[0m\u001b[0m\n\u001b[1;32m      8\u001b[0m                        [9,12]])\n\u001b[0;32m----> 9\u001b[0;31m \u001b[0mtorch\u001b[0m\u001b[0;34m.\u001b[0m\u001b[0mmm\u001b[0m\u001b[0;34m(\u001b[0m\u001b[0mtensor_A\u001b[0m\u001b[0;34m,\u001b[0m\u001b[0mtensor_B\u001b[0m\u001b[0;34m)\u001b[0m    \u001b[0;31m#mm is equal to matmul\u001b[0m\u001b[0;34m\u001b[0m\u001b[0;34m\u001b[0m\u001b[0m\n\u001b[0m",
            "\u001b[0;31mRuntimeError\u001b[0m: mat1 and mat2 shapes cannot be multiplied (3x2 and 3x2)"
          ]
        }
      ]
    },
    {
      "cell_type": "code",
      "source": [
        "tensor_A= torch.tensor([[1,2],\n",
        "                        [3,4],\n",
        "                        [5,6]])\n",
        "tensor_B=torch.tensor([[7,10],\n",
        "                       [8,11],\n",
        "                       [9,12]])\n",
        "print(tensor_A.shape,tensor_B.shape)\n",
        "tensor_B.T\n",
        "print(torch.matmul(tensor_A,tensor_B.T))"
      ],
      "metadata": {
        "colab": {
          "base_uri": "https://localhost:8080/"
        },
        "id": "RRq7Ccy76w_1",
        "outputId": "68f4b658-9e70-43c7-b70c-df82ae12c195"
      },
      "execution_count": null,
      "outputs": [
        {
          "output_type": "stream",
          "name": "stdout",
          "text": [
            "torch.Size([3, 2]) torch.Size([3, 2])\n",
            "tensor([[ 27,  30,  33],\n",
            "        [ 61,  68,  75],\n",
            "        [ 95, 106, 117]])\n"
          ]
        }
      ]
    },
    {
      "cell_type": "code",
      "source": [
        "print(f\"tensor_A shape: {tensor_A.shape}\")\n",
        "print(f\"tensor_B shape: {tensor_B.shape}\")\n",
        "print(f\"tensor_B.T shape: {tensor_B.T.shape}\")\n",
        "print(f\"torch.matmul(tensor_A,tensor_B.T) shape: {torch.matmul(tensor_A,tensor_B.T).shape}\")\n",
        "print(tensor_A @ tensor_B.T)"
      ],
      "metadata": {
        "colab": {
          "base_uri": "https://localhost:8080/"
        },
        "id": "URohICFsD2q5",
        "outputId": "286d69dc-b17d-443e-a8b9-c8b9db4a7e0e"
      },
      "execution_count": null,
      "outputs": [
        {
          "output_type": "stream",
          "name": "stdout",
          "text": [
            "tensor_A shape: torch.Size([3, 2])\n",
            "tensor_B shape: torch.Size([3, 2])\n",
            "tensor_B.T shape: torch.Size([2, 3])\n",
            "torch.matmul(tensor_A,tensor_B.T) shape: torch.Size([3, 3])\n",
            "tensor([[ 27,  30,  33],\n",
            "        [ 61,  68,  75],\n",
            "        [ 95, 106, 117]])\n"
          ]
        }
      ]
    },
    {
      "cell_type": "markdown",
      "source": [
        "**Tensor aggregation of certain Tensor values**\n",
        "\n",
        "min,max,sum,etc\n"
      ],
      "metadata": {
        "id": "TSSFBrbCFXqz"
      }
    },
    {
      "cell_type": "code",
      "source": [
        "x=torch.arange(start=0,end=100,step=10)\n",
        "print(x)\n",
        "print(torch.min(x),x.min())"
      ],
      "metadata": {
        "colab": {
          "base_uri": "https://localhost:8080/"
        },
        "id": "KX1PFywTFwXK",
        "outputId": "513b89d2-32ed-4f93-9955-bb8a0ced94f7"
      },
      "execution_count": null,
      "outputs": [
        {
          "output_type": "stream",
          "name": "stdout",
          "text": [
            "tensor([ 0, 10, 20, 30, 40, 50, 60, 70, 80, 90])\n",
            "tensor(0) tensor(0)\n"
          ]
        }
      ]
    },
    {
      "cell_type": "code",
      "source": [
        "print(torch.max(x),x.max())"
      ],
      "metadata": {
        "colab": {
          "base_uri": "https://localhost:8080/"
        },
        "id": "6braPjBEG4P1",
        "outputId": "6b85e3d3-7525-4c1f-85d0-3aa6e69ccecc"
      },
      "execution_count": null,
      "outputs": [
        {
          "output_type": "stream",
          "name": "stdout",
          "text": [
            "tensor(90) tensor(90)\n"
          ]
        }
      ]
    },
    {
      "cell_type": "code",
      "source": [
        "torch.mean(x.type(torch.float32))       #mean can only operate on float32(default) datatype\n",
        "x.type(torch.float32).mean()"
      ],
      "metadata": {
        "colab": {
          "base_uri": "https://localhost:8080/"
        },
        "id": "WyWZ-NEfHIMm",
        "outputId": "0387a866-ef43-4cf1-a1c6-3d9b3505e599"
      },
      "execution_count": null,
      "outputs": [
        {
          "output_type": "execute_result",
          "data": {
            "text/plain": [
              "tensor(45.)"
            ]
          },
          "metadata": {},
          "execution_count": 59
        }
      ]
    },
    {
      "cell_type": "code",
      "source": [
        "torch.sum(x)\n",
        "x.sum()"
      ],
      "metadata": {
        "colab": {
          "base_uri": "https://localhost:8080/"
        },
        "id": "5YHanHxwPEvb",
        "outputId": "66531889-0d27-4ff8-9885-946fcf0d7b19"
      },
      "execution_count": null,
      "outputs": [
        {
          "output_type": "execute_result",
          "data": {
            "text/plain": [
              "tensor(450)"
            ]
          },
          "metadata": {},
          "execution_count": 60
        }
      ]
    },
    {
      "cell_type": "markdown",
      "source": [
        "finding positional mean and max\n",
        "\n",
        "(useful for softmax activation function)"
      ],
      "metadata": {
        "id": "Tg9xMbaQPwNr"
      }
    },
    {
      "cell_type": "code",
      "source": [
        "x"
      ],
      "metadata": {
        "colab": {
          "base_uri": "https://localhost:8080/"
        },
        "id": "yyfV4FFtQDVl",
        "outputId": "0786a983-2562-420b-b3fa-41a2f26345a7"
      },
      "execution_count": null,
      "outputs": [
        {
          "output_type": "execute_result",
          "data": {
            "text/plain": [
              "tensor([ 0, 10, 20, 30, 40, 50, 60, 70, 80, 90])"
            ]
          },
          "metadata": {},
          "execution_count": 61
        }
      ]
    },
    {
      "cell_type": "code",
      "source": [
        "x.argmin()"
      ],
      "metadata": {
        "colab": {
          "base_uri": "https://localhost:8080/"
        },
        "id": "Ij9ZbbdeQFpJ",
        "outputId": "3be7307f-330c-46f1-bfde-25ef2f55fb50"
      },
      "execution_count": null,
      "outputs": [
        {
          "output_type": "execute_result",
          "data": {
            "text/plain": [
              "tensor(0)"
            ]
          },
          "metadata": {},
          "execution_count": 62
        }
      ]
    },
    {
      "cell_type": "code",
      "source": [
        "x[0]"
      ],
      "metadata": {
        "colab": {
          "base_uri": "https://localhost:8080/"
        },
        "id": "DMM5AbHRQR3L",
        "outputId": "38fcf062-6348-4731-a5f6-15e70885fb9a"
      },
      "execution_count": null,
      "outputs": [
        {
          "output_type": "execute_result",
          "data": {
            "text/plain": [
              "tensor(0)"
            ]
          },
          "metadata": {},
          "execution_count": 63
        }
      ]
    },
    {
      "cell_type": "code",
      "source": [
        "x.argmax()"
      ],
      "metadata": {
        "colab": {
          "base_uri": "https://localhost:8080/"
        },
        "id": "-kxUZiXcQIv-",
        "outputId": "3c382cd1-8a31-4e23-f8a1-9a2015d81e29"
      },
      "execution_count": null,
      "outputs": [
        {
          "output_type": "execute_result",
          "data": {
            "text/plain": [
              "tensor(9)"
            ]
          },
          "metadata": {},
          "execution_count": 64
        }
      ]
    },
    {
      "cell_type": "code",
      "source": [
        "x[9]"
      ],
      "metadata": {
        "colab": {
          "base_uri": "https://localhost:8080/"
        },
        "id": "-1YVuRh1QVkO",
        "outputId": "bf80f7ee-16da-4c77-eadc-2aea72692844"
      },
      "execution_count": null,
      "outputs": [
        {
          "output_type": "execute_result",
          "data": {
            "text/plain": [
              "tensor(90)"
            ]
          },
          "metadata": {},
          "execution_count": 65
        }
      ]
    },
    {
      "cell_type": "markdown",
      "source": [
        "Reshaping, stacking , squeezing and unsqueezing tensors\n",
        "\n",
        "1.Reshaping-reshapes an inout tensor to a defined shape\n",
        "\n",
        "2.view-return a view of an input tensor of certain shape but keep the same memory as the original tensor\n",
        "\n",
        "3.stcaking-combine multiple tensor on top of each other(v stack) or side by side(hstack)\n",
        "\n",
        "4.squeeze- removes all one dimensions from a tensor\n",
        "\n",
        "5.unsqueeze- adds one dimensions to a target dimnesion\n",
        "\n",
        "6.permute-return a view of input with dimensions permuted(swapped) in a certain way"
      ],
      "metadata": {
        "id": "g2fC6RvBRXZx"
      }
    },
    {
      "cell_type": "code",
      "source": [
        "x=torch.arange(1,10)\n",
        "print(x,x.shape)\n",
        "#add an extra dimension (reshape)\n",
        "x_reshaped=x.reshape(3,3)        #total no of elements should be same\n",
        "x_reshaped,x_reshaped.shape"
      ],
      "metadata": {
        "colab": {
          "base_uri": "https://localhost:8080/"
        },
        "id": "thIXeN9eQXrd",
        "outputId": "6d1f8803-ec2a-4465-80ae-eb6192f027bd"
      },
      "execution_count": null,
      "outputs": [
        {
          "output_type": "stream",
          "name": "stdout",
          "text": [
            "tensor([1, 2, 3, 4, 5, 6, 7, 8, 9]) torch.Size([9])\n"
          ]
        },
        {
          "output_type": "execute_result",
          "data": {
            "text/plain": [
              "(tensor([[1, 2, 3],\n",
              "         [4, 5, 6],\n",
              "         [7, 8, 9]]),\n",
              " torch.Size([3, 3]))"
            ]
          },
          "metadata": {},
          "execution_count": 74
        }
      ]
    },
    {
      "cell_type": "code",
      "source": [
        "#change the view\n",
        "#view is similar to reshape but view  shares the memory with original tensor\n",
        "#chaning z changes x , as both share the same memory\n",
        "z=x_reshaped.view(1,9)\n",
        "z,z.shape\n",
        "#changing z\n",
        "z[:,0]= 5      #select all rows and first column from 2d array z\n",
        "z,x"
      ],
      "metadata": {
        "id": "PivzXfKybTDd",
        "colab": {
          "base_uri": "https://localhost:8080/"
        },
        "outputId": "7bcc60e9-bac2-4a15-b448-2f4dd23b3d5f"
      },
      "execution_count": null,
      "outputs": [
        {
          "output_type": "execute_result",
          "data": {
            "text/plain": [
              "(tensor([[5, 2, 3, 4, 5, 6, 7, 8, 9]]), tensor([5, 2, 3, 4, 5, 6, 7, 8, 9]))"
            ]
          },
          "metadata": {},
          "execution_count": 78
        }
      ]
    },
    {
      "cell_type": "code",
      "source": [
        "#stack tensors on top of each other\n",
        "x_stacked=torch.stack([x,x,x,x],dim=0)  #takes list of stacks\n",
        "x_stacked1=torch.stack([x,x,x,x],dim=1)\n",
        "print(x_stacked)\n",
        "x_stacked1"
      ],
      "metadata": {
        "colab": {
          "base_uri": "https://localhost:8080/"
        },
        "id": "5IcaB7-9nQyp",
        "outputId": "10183515-f74a-4690-fe36-9ccea21ab9a5"
      },
      "execution_count": null,
      "outputs": [
        {
          "output_type": "stream",
          "name": "stdout",
          "text": [
            "tensor([[5, 2, 3, 4, 5, 6, 7, 8, 9],\n",
            "        [5, 2, 3, 4, 5, 6, 7, 8, 9],\n",
            "        [5, 2, 3, 4, 5, 6, 7, 8, 9],\n",
            "        [5, 2, 3, 4, 5, 6, 7, 8, 9]])\n"
          ]
        },
        {
          "output_type": "execute_result",
          "data": {
            "text/plain": [
              "tensor([[5, 5, 5, 5],\n",
              "        [2, 2, 2, 2],\n",
              "        [3, 3, 3, 3],\n",
              "        [4, 4, 4, 4],\n",
              "        [5, 5, 5, 5],\n",
              "        [6, 6, 6, 6],\n",
              "        [7, 7, 7, 7],\n",
              "        [8, 8, 8, 8],\n",
              "        [9, 9, 9, 9]])"
            ]
          },
          "metadata": {},
          "execution_count": 85
        }
      ]
    },
    {
      "cell_type": "code",
      "source": [
        "#squeeze\n",
        "x=torch.rand(1,1,9)\n",
        "print(f\"original tensor is: {x} and its size is {x.shape }\")\n",
        "x_squeezed=x.squeeze()\n",
        "print(f\"after squeezing the tensor is {x_squeezed}\")\n",
        "x.squeeze().shape\n"
      ],
      "metadata": {
        "colab": {
          "base_uri": "https://localhost:8080/"
        },
        "id": "1s4h37VepB0E",
        "outputId": "1e294a38-15b2-416d-cae1-13b49882b1c0"
      },
      "execution_count": null,
      "outputs": [
        {
          "output_type": "stream",
          "name": "stdout",
          "text": [
            "original tensor is: tensor([[[0.6070, 0.7535, 0.0309, 0.5363, 0.5207, 0.8689, 0.5187, 0.5566,\n",
            "          0.3965]]]) and its size is torch.Size([1, 1, 9])\n",
            "after squeezing the tensor is tensor([0.6070, 0.7535, 0.0309, 0.5363, 0.5207, 0.8689, 0.5187, 0.5566, 0.3965])\n"
          ]
        },
        {
          "output_type": "execute_result",
          "data": {
            "text/plain": [
              "torch.Size([9])"
            ]
          },
          "metadata": {},
          "execution_count": 103
        }
      ]
    },
    {
      "cell_type": "code",
      "source": [
        "#unsqueeze\n",
        "x_unsqueezed=x_squeezed.unsqueeze(dim=0)\n",
        "print(x_unsqueezed)\n",
        "x_unsqueezed.shape\n",
        "x_unsqueezed1=x_unsqueezed.unsqueeze(dim=0)\n",
        "print(x_unsqueezed1)\n",
        "x_unsqueezed1.shape\n"
      ],
      "metadata": {
        "colab": {
          "base_uri": "https://localhost:8080/"
        },
        "id": "U7K9bKSEtF1j",
        "outputId": "8a03b34d-bd66-4b5b-9c98-6f36c8724e9f"
      },
      "execution_count": null,
      "outputs": [
        {
          "output_type": "stream",
          "name": "stdout",
          "text": [
            "tensor([[0.6070, 0.7535, 0.0309, 0.5363, 0.5207, 0.8689, 0.5187, 0.5566, 0.3965]])\n",
            "tensor([[[0.6070, 0.7535, 0.0309, 0.5363, 0.5207, 0.8689, 0.5187, 0.5566,\n",
            "          0.3965]]])\n"
          ]
        },
        {
          "output_type": "execute_result",
          "data": {
            "text/plain": [
              "torch.Size([1, 1, 9])"
            ]
          },
          "metadata": {},
          "execution_count": 109
        }
      ]
    },
    {
      "cell_type": "code",
      "source": [
        "#permute- permute is a type of view,hence shares same memory\n",
        "#rearranges dimension of traget tensor in specified order,commonly used while dealing with images\n",
        "x_original=torch.rand(size=(224,224,3))  #height,width,color channel\n",
        "x_permuted=x_original.permute(2,0,1)     #width,height,colour channel\n",
        "print(x_original.shape)\n",
        "print(x_permuted.shape)"
      ],
      "metadata": {
        "colab": {
          "base_uri": "https://localhost:8080/"
        },
        "id": "M85VIJPkv8KJ",
        "outputId": "6a47bc46-9a72-40a6-8751-1f3412b74cb9"
      },
      "execution_count": null,
      "outputs": [
        {
          "output_type": "stream",
          "name": "stdout",
          "text": [
            "torch.Size([224, 224, 3])\n",
            "torch.Size([3, 224, 224])\n"
          ]
        }
      ]
    },
    {
      "cell_type": "markdown",
      "source": [
        "indexing(selecting data from tensors)\n",
        "similar to indeximg in numpy"
      ],
      "metadata": {
        "id": "skbySihO05aG"
      }
    },
    {
      "cell_type": "code",
      "source": [
        "x=torch.arange(1,10).reshape(1,3,3)\n",
        "x,x.shape"
      ],
      "metadata": {
        "colab": {
          "base_uri": "https://localhost:8080/"
        },
        "id": "SjLHdtOK2gnz",
        "outputId": "da67cfb1-dce6-42b0-a4c6-c5eca21e906e"
      },
      "execution_count": null,
      "outputs": [
        {
          "output_type": "execute_result",
          "data": {
            "text/plain": [
              "(tensor([[[1, 2, 3],\n",
              "          [4, 5, 6],\n",
              "          [7, 8, 9]]]),\n",
              " torch.Size([1, 3, 3]))"
            ]
          },
          "metadata": {},
          "execution_count": 114
        }
      ]
    },
    {
      "cell_type": "code",
      "source": [
        "x[0]"
      ],
      "metadata": {
        "colab": {
          "base_uri": "https://localhost:8080/"
        },
        "id": "6btsoBnK39lr",
        "outputId": "56a6bcdf-f598-4f2b-d0fb-d3941ac6fe61"
      },
      "execution_count": null,
      "outputs": [
        {
          "output_type": "execute_result",
          "data": {
            "text/plain": [
              "tensor([[1, 2, 3],\n",
              "        [4, 5, 6],\n",
              "        [7, 8, 9]])"
            ]
          },
          "metadata": {},
          "execution_count": 115
        }
      ]
    },
    {
      "cell_type": "markdown",
      "source": [],
      "metadata": {
        "id": "5Ljd3OGs4AVA"
      }
    },
    {
      "cell_type": "code",
      "source": [
        "x[0][0]"
      ],
      "metadata": {
        "colab": {
          "base_uri": "https://localhost:8080/"
        },
        "id": "IxHXaPY146aq",
        "outputId": "32992d42-848e-4ac7-b343-afb9257eece2"
      },
      "execution_count": null,
      "outputs": [
        {
          "output_type": "execute_result",
          "data": {
            "text/plain": [
              "tensor([1, 2, 3])"
            ]
          },
          "metadata": {},
          "execution_count": 116
        }
      ]
    },
    {
      "cell_type": "code",
      "source": [
        "x[0][1][1]"
      ],
      "metadata": {
        "colab": {
          "base_uri": "https://localhost:8080/"
        },
        "id": "UbK4qtwa5Aa0",
        "outputId": "441b5cae-2fd7-42e6-8d10-d21fe62e4509"
      },
      "execution_count": null,
      "outputs": [
        {
          "output_type": "execute_result",
          "data": {
            "text/plain": [
              "tensor(5)"
            ]
          },
          "metadata": {},
          "execution_count": 120
        }
      ]
    },
    {
      "cell_type": "code",
      "source": [
        "x[1,1,1]"
      ],
      "metadata": {
        "id": "mT4Ffcqn5Ldn"
      },
      "execution_count": null,
      "outputs": []
    },
    {
      "cell_type": "code",
      "source": [
        "x[:,0]"
      ],
      "metadata": {
        "colab": {
          "base_uri": "https://localhost:8080/"
        },
        "id": "M2mIi5ng7LM3",
        "outputId": "e196d887-e0d8-44f7-b078-e1f9b1b2c468"
      },
      "execution_count": null,
      "outputs": [
        {
          "output_type": "execute_result",
          "data": {
            "text/plain": [
              "tensor([[1, 2, 3]])"
            ]
          },
          "metadata": {},
          "execution_count": 121
        }
      ]
    },
    {
      "cell_type": "code",
      "source": [
        "x[:,:,1]"
      ],
      "metadata": {
        "colab": {
          "base_uri": "https://localhost:8080/"
        },
        "id": "c5XxlKep7Sp3",
        "outputId": "fb58dfe1-6234-4f5b-82b0-067f48759023"
      },
      "execution_count": null,
      "outputs": [
        {
          "output_type": "execute_result",
          "data": {
            "text/plain": [
              "tensor([[2, 5, 8]])"
            ]
          },
          "metadata": {},
          "execution_count": 122
        }
      ]
    },
    {
      "cell_type": "code",
      "source": [
        "x[:,1,1]"
      ],
      "metadata": {
        "colab": {
          "base_uri": "https://localhost:8080/"
        },
        "id": "nTaKlx8q8Wze",
        "outputId": "e9a01cc9-60a8-4944-8a3f-aee39115b177"
      },
      "execution_count": null,
      "outputs": [
        {
          "output_type": "execute_result",
          "data": {
            "text/plain": [
              "tensor([5])"
            ]
          },
          "metadata": {},
          "execution_count": 124
        }
      ]
    },
    {
      "cell_type": "markdown",
      "source": [
        "pytorch tensors and numpy\n",
        "\n",
        "numpy is a popular scientific python numerical computing libarary.\n",
        "\n",
        "and because of this,pytorch has functionality to interact with it\n",
        "\n",
        "1.Data in numpy, want in pytorch tensor-> torch.from_numpy(ndarray)\n",
        "\n",
        "2.pytorch tensor to numpy -> torch.Tensor.numpy()\n"
      ],
      "metadata": {
        "id": "qzGowtdjACkR"
      }
    },
    {
      "cell_type": "code",
      "source": [
        "#numpy array to tensors\n",
        "#warning: when converting from numpyto pytorch,pytorch reflects numpy's default datatype\n",
        "import numpy as np\n",
        "import torch\n",
        "array=np.arange(1.0,8.0)      #numpy default dataype is float 64\n",
        "tensor=torch.from_numpy(array).type(torch.float32)\n",
        "print(array,tensor)\n",
        "print(tensor.dtype)\n",
        "print(array.dtype)"
      ],
      "metadata": {
        "colab": {
          "base_uri": "https://localhost:8080/"
        },
        "id": "woLY6EH8APOr",
        "outputId": "6185c50b-8086-42da-9492-f609ce4a9cbd"
      },
      "execution_count": null,
      "outputs": [
        {
          "output_type": "stream",
          "name": "stdout",
          "text": [
            "[1. 2. 3. 4. 5. 6. 7.] tensor([1., 2., 3., 4., 5., 6., 7.])\n",
            "torch.float32\n",
            "float64\n"
          ]
        }
      ]
    },
    {
      "cell_type": "code",
      "source": [
        "#change the value in array, what will this do the 'tensor'?\n",
        "#tensor value does not cahnge\n",
        "array=array+1\n",
        "print(array,tensor)\n"
      ],
      "metadata": {
        "colab": {
          "base_uri": "https://localhost:8080/"
        },
        "id": "5xSZxVroB_6P",
        "outputId": "e9f8881c-3f7d-40ac-90a9-7771ae1ada0e"
      },
      "execution_count": null,
      "outputs": [
        {
          "output_type": "stream",
          "name": "stdout",
          "text": [
            "[2. 3. 4. 5. 6. 7. 8.] tensor([1., 2., 3., 4., 5., 6., 7.])\n"
          ]
        }
      ]
    },
    {
      "cell_type": "code",
      "source": [
        "#Tensor to Numpy array\n",
        "#numpy araay will be float32(default datatype of tensor)\n",
        "tensor=torch.ones(7)\n",
        "numpy_tensor=tensor.numpy()\n",
        "print(tensor,numpy_tensor)\n",
        "numpy_tensor.dtype"
      ],
      "metadata": {
        "colab": {
          "base_uri": "https://localhost:8080/"
        },
        "id": "vDKKwUjBFtaj",
        "outputId": "448eff58-6025-4b50-b1f5-0a4898715186"
      },
      "execution_count": null,
      "outputs": [
        {
          "output_type": "stream",
          "name": "stdout",
          "text": [
            "tensor([1., 1., 1., 1., 1., 1., 1.]) [1. 1. 1. 1. 1. 1. 1.]\n"
          ]
        },
        {
          "output_type": "execute_result",
          "data": {
            "text/plain": [
              "dtype('float32')"
            ]
          },
          "metadata": {},
          "execution_count": 17
        }
      ]
    },
    {
      "cell_type": "code",
      "source": [
        "#change the tensor, what will happen to numpy_tensor?\n",
        "#no changes\n",
        "tensor=tensor+1\n",
        "tensor,numpy_tensor"
      ],
      "metadata": {
        "colab": {
          "base_uri": "https://localhost:8080/"
        },
        "id": "r962akw4GYKx",
        "outputId": "9e665f7c-6a18-41a5-88bb-c0da3279a650"
      },
      "execution_count": null,
      "outputs": [
        {
          "output_type": "execute_result",
          "data": {
            "text/plain": [
              "(tensor([3., 3., 3., 3., 3., 3., 3.]),\n",
              " array([1., 1., 1., 1., 1., 1., 1.], dtype=float32))"
            ]
          },
          "metadata": {},
          "execution_count": 19
        }
      ]
    },
    {
      "cell_type": "markdown",
      "source": [
        "pytorch reproducibility\n",
        "\n",
        "taking the random out of random\n",
        "\n",
        "\n",
        "how a nueral network numbers->tensor operations->update random numbers to try and make them better representations of the data->repeat\n",
        "\n",
        "\n",
        "to reduce randomness in neural network and pytorch comes the concept of random seed.\n",
        "\n",
        "essentially what the random seed does is \"falvour\" the randomness"
      ],
      "metadata": {
        "id": "sfGqWZPHHArl"
      }
    },
    {
      "cell_type": "code",
      "source": [
        "import torch\n",
        "random_tensor_A=torch.rand(3,4)\n",
        "random_tensor_B=torch.rand(3,4)\n",
        "print(random_tensor_A)\n",
        "print(random_tensor_B)\n",
        "print(random_tensor_A==random_tensor_B)"
      ],
      "metadata": {
        "colab": {
          "base_uri": "https://localhost:8080/"
        },
        "id": "XojDUpdvHK1x",
        "outputId": "5723c428-e843-414f-a7ae-990931413f59"
      },
      "execution_count": null,
      "outputs": [
        {
          "output_type": "stream",
          "name": "stdout",
          "text": [
            "tensor([[0.7307, 0.3407, 0.2459, 0.8436],\n",
            "        [0.8122, 0.8910, 0.0536, 0.0030],\n",
            "        [0.3934, 0.6593, 0.0255, 0.7638]])\n",
            "tensor([[0.5506, 0.7355, 0.3576, 0.1603],\n",
            "        [0.2559, 0.4053, 0.2955, 0.8521],\n",
            "        [0.2132, 0.4954, 0.2947, 0.1470]])\n",
            "tensor([[False, False, False, False],\n",
            "        [False, False, False, False],\n",
            "        [False, False, False, False]])\n"
          ]
        }
      ]
    },
    {
      "cell_type": "code",
      "source": [
        "#set the random seed\n",
        "RANDOM_SEED=42\n",
        "torch.manual_seed(RANDOM_SEED)\n",
        "random_tensor_c=torch.rand(3,4)\n",
        "\n",
        "torch.manual_seed(RANDOM_SEED)\n",
        "random_tensor_d=torch.rand(3,4)\n",
        "\n",
        "print(random_tensor_c)\n",
        "print(random_tensor_d)\n",
        "print(random_tensor_c==random_tensor_d)"
      ],
      "metadata": {
        "colab": {
          "base_uri": "https://localhost:8080/"
        },
        "id": "535P6-5lKLy1",
        "outputId": "f4ebb3d4-ce3a-4ab6-b899-ba8ef09ff5ac"
      },
      "execution_count": null,
      "outputs": [
        {
          "output_type": "stream",
          "name": "stdout",
          "text": [
            "tensor([[0.8823, 0.9150, 0.3829, 0.9593],\n",
            "        [0.3904, 0.6009, 0.2566, 0.7936],\n",
            "        [0.9408, 0.1332, 0.9346, 0.5936]])\n",
            "tensor([[0.8823, 0.9150, 0.3829, 0.9593],\n",
            "        [0.3904, 0.6009, 0.2566, 0.7936],\n",
            "        [0.9408, 0.1332, 0.9346, 0.5936]])\n",
            "tensor([[True, True, True, True],\n",
            "        [True, True, True, True],\n",
            "        [True, True, True, True]])\n"
          ]
        }
      ]
    },
    {
      "cell_type": "markdown",
      "source": [
        "running tensor and pytorch objects on GPUs(and making faster computation)\n",
        "\n",
        "GPU=faster computation on numbers(CUDA+NVDIA hardware +pytorch working behind scenes)"
      ],
      "metadata": {
        "id": "VK-4OABkMlvd"
      }
    },
    {
      "cell_type": "markdown",
      "source": [
        "**getting a GPU**\n",
        "1. easiest-use google colab\n",
        "2.use your own GPU(investment and little setup)\n",
        "3. use cloud computing-GCP,AWS,Azure, these services allow you you to rent computers on the cloud and access them\n",
        "\n"
      ],
      "metadata": {
        "id": "nlGFeXVCOnBr"
      }
    },
    {
      "cell_type": "code",
      "source": [
        "!nvidia-smi\n"
      ],
      "metadata": {
        "colab": {
          "base_uri": "https://localhost:8080/"
        },
        "id": "aqZua_UUSLOq",
        "outputId": "15f19c78-0ca2-49c8-8a0a-49563abfb182"
      },
      "execution_count": null,
      "outputs": [
        {
          "output_type": "stream",
          "name": "stdout",
          "text": [
            "Sun Jun 15 15:54:22 2025       \n",
            "+-----------------------------------------------------------------------------------------+\n",
            "| NVIDIA-SMI 550.54.15              Driver Version: 550.54.15      CUDA Version: 12.4     |\n",
            "|-----------------------------------------+------------------------+----------------------+\n",
            "| GPU  Name                 Persistence-M | Bus-Id          Disp.A | Volatile Uncorr. ECC |\n",
            "| Fan  Temp   Perf          Pwr:Usage/Cap |           Memory-Usage | GPU-Util  Compute M. |\n",
            "|                                         |                        |               MIG M. |\n",
            "|=========================================+========================+======================|\n",
            "|   0  Tesla T4                       Off |   00000000:00:04.0 Off |                    0 |\n",
            "| N/A   48C    P8             12W /   70W |       0MiB /  15360MiB |      0%      Default |\n",
            "|                                         |                        |                  N/A |\n",
            "+-----------------------------------------+------------------------+----------------------+\n",
            "                                                                                         \n",
            "+-----------------------------------------------------------------------------------------+\n",
            "| Processes:                                                                              |\n",
            "|  GPU   GI   CI        PID   Type   Process name                              GPU Memory |\n",
            "|        ID   ID                                                               Usage      |\n",
            "|=========================================================================================|\n",
            "|  No running processes found                                                             |\n",
            "+-----------------------------------------------------------------------------------------+\n"
          ]
        }
      ]
    },
    {
      "cell_type": "code",
      "source": [
        "#check for GPU access with pytorch\n",
        "import torch\n",
        "torch.cuda.is_available()"
      ],
      "metadata": {
        "colab": {
          "base_uri": "https://localhost:8080/"
        },
        "id": "swnIPB6vTTeh",
        "outputId": "ee03c89e-5e12-40c6-f748-b9821c8671db"
      },
      "execution_count": null,
      "outputs": [
        {
          "output_type": "execute_result",
          "data": {
            "text/plain": [
              "True"
            ]
          },
          "metadata": {},
          "execution_count": 4
        }
      ]
    },
    {
      "cell_type": "code",
      "source": [
        "#setup device agnostic code\n",
        "device=\"cuda\" if torch.cuda.is_available() else \"cpu\"\n",
        "device"
      ],
      "metadata": {
        "colab": {
          "base_uri": "https://localhost:8080/",
          "height": 35
        },
        "id": "i_tkV0MqT9M7",
        "outputId": "6a73fb1d-69f7-4ee3-c3bc-a74a8443b36d"
      },
      "execution_count": null,
      "outputs": [
        {
          "output_type": "execute_result",
          "data": {
            "text/plain": [
              "'cuda'"
            ],
            "application/vnd.google.colaboratory.intrinsic+json": {
              "type": "string"
            }
          },
          "metadata": {},
          "execution_count": 5
        }
      ]
    },
    {
      "cell_type": "code",
      "source": [
        "#count number of gpus\n",
        "torch.cuda.device_count()"
      ],
      "metadata": {
        "colab": {
          "base_uri": "https://localhost:8080/"
        },
        "id": "Z9XklrovUY5D",
        "outputId": "bbcb0e80-57fb-4cf5-f44d-b09788c995d9"
      },
      "execution_count": null,
      "outputs": [
        {
          "output_type": "execute_result",
          "data": {
            "text/plain": [
              "1"
            ]
          },
          "metadata": {},
          "execution_count": 6
        }
      ]
    },
    {
      "cell_type": "markdown",
      "source": [
        "for pytorch since its capable of running compute on the GPU or CPU. its best practice to setup device agnostic code.\n",
        "eg. run on gpu if available ,else default cpu"
      ],
      "metadata": {
        "id": "ecP7DQmHUupk"
      }
    },
    {
      "cell_type": "markdown",
      "source": [
        "setting up device agnostic code and putting tensors on and off the GPU"
      ],
      "metadata": {
        "id": "Zwa9-DhvVPj5"
      }
    },
    {
      "cell_type": "code",
      "source": [
        "#putting tensors(and models) on GPU\n",
        "import torch\n",
        "tensor=torch.tensor([1,2,3])\n",
        "print(tensor,tensor.device)   #tensor by default is in CPU\n",
        "\n",
        "#move tensor to GPU or target device  if available(setting up device variable)\n",
        "device=\"cuda\" if torch.cuda.is_available() else \"cpu\"\n",
        "tensor_on_gpu=tensor.to(device)\n",
        "tensor_on_gpu\n"
      ],
      "metadata": {
        "colab": {
          "base_uri": "https://localhost:8080/"
        },
        "id": "CCgiffeNeQjU",
        "outputId": "4cebfade-be5e-4f3e-b897-e55d53b38931"
      },
      "execution_count": null,
      "outputs": [
        {
          "output_type": "stream",
          "name": "stdout",
          "text": [
            "tensor([1, 2, 3]) cpu\n"
          ]
        },
        {
          "output_type": "execute_result",
          "data": {
            "text/plain": [
              "tensor([1, 2, 3], device='cuda:0')"
            ]
          },
          "metadata": {},
          "execution_count": 5
        }
      ]
    },
    {
      "cell_type": "markdown",
      "source": [
        "since numpy only works on cpu\n",
        "sometimes you need to move back tensors from gpu to cpu"
      ],
      "metadata": {
        "id": "DXkzBw0PiBXT"
      }
    },
    {
      "cell_type": "code",
      "source": [
        "#if tensor is on gpu, can't transform it to numpy\n",
        "tensor_on_gpu.numpy()"
      ],
      "metadata": {
        "colab": {
          "base_uri": "https://localhost:8080/",
          "height": 176
        },
        "id": "00Xejnt5iW5K",
        "outputId": "61475a4e-5c46-4ba4-b331-e8aef408f938"
      },
      "execution_count": null,
      "outputs": [
        {
          "output_type": "error",
          "ename": "TypeError",
          "evalue": "can't convert cuda:0 device type tensor to numpy. Use Tensor.cpu() to copy the tensor to host memory first.",
          "traceback": [
            "\u001b[0;31m---------------------------------------------------------------------------\u001b[0m",
            "\u001b[0;31mTypeError\u001b[0m                                 Traceback (most recent call last)",
            "\u001b[0;32m<ipython-input-6-1194272952>\u001b[0m in \u001b[0;36m<cell line: 0>\u001b[0;34m()\u001b[0m\n\u001b[1;32m      1\u001b[0m \u001b[0;31m#if tensor is on gpu, can't transform it to numpy\u001b[0m\u001b[0;34m\u001b[0m\u001b[0;34m\u001b[0m\u001b[0m\n\u001b[0;32m----> 2\u001b[0;31m \u001b[0mtensor_on_gpu\u001b[0m\u001b[0;34m.\u001b[0m\u001b[0mnumpy\u001b[0m\u001b[0;34m(\u001b[0m\u001b[0;34m)\u001b[0m\u001b[0;34m\u001b[0m\u001b[0;34m\u001b[0m\u001b[0m\n\u001b[0m",
            "\u001b[0;31mTypeError\u001b[0m: can't convert cuda:0 device type tensor to numpy. Use Tensor.cpu() to copy the tensor to host memory first."
          ]
        }
      ]
    },
    {
      "cell_type": "code",
      "source": [
        "#to fix the GPU tensor with Numpy issue,we can first set it to CPU\n",
        "\n",
        "tensor_back_on_cpu=tensor_on_gpu.cpu().numpy()\n",
        "tensor_back_on_cpu\n"
      ],
      "metadata": {
        "colab": {
          "base_uri": "https://localhost:8080/"
        },
        "id": "T4YPcvh9nJGb",
        "outputId": "d9170439-f27e-41e7-bc9e-a0e86ec71873"
      },
      "execution_count": null,
      "outputs": [
        {
          "output_type": "execute_result",
          "data": {
            "text/plain": [
              "array([1, 2, 3])"
            ]
          },
          "metadata": {},
          "execution_count": 7
        }
      ]
    },
    {
      "cell_type": "code",
      "source": [
        "tensor_on_gpu   #tensor on gpu is still there unchanged"
      ],
      "metadata": {
        "colab": {
          "base_uri": "https://localhost:8080/"
        },
        "id": "drefwc-XnnsO",
        "outputId": "29b303a4-6c16-4d18-c8ae-d452274e684c"
      },
      "execution_count": null,
      "outputs": [
        {
          "output_type": "execute_result",
          "data": {
            "text/plain": [
              "tensor([1, 2, 3], device='cuda:0')"
            ]
          },
          "metadata": {},
          "execution_count": 8
        }
      ]
    },
    {
      "cell_type": "markdown",
      "source": [
        "**exercises**"
      ],
      "metadata": {
        "id": "PR0haYv_pJjD"
      }
    },
    {
      "cell_type": "code",
      "source": [
        "#Create a random tensor with shape (7, 7)\n",
        "tensor=torch.rand(7,7)\n",
        "tensor"
      ],
      "metadata": {
        "colab": {
          "base_uri": "https://localhost:8080/"
        },
        "id": "ojTgf1GCpMJ6",
        "outputId": "9ade0005-4d10-40c9-b270-6f891a31c38d"
      },
      "execution_count": null,
      "outputs": [
        {
          "output_type": "execute_result",
          "data": {
            "text/plain": [
              "tensor([[0.4963, 0.7682, 0.0885, 0.1320, 0.3074, 0.6341, 0.4901],\n",
              "        [0.8964, 0.4556, 0.6323, 0.3489, 0.4017, 0.0223, 0.1689],\n",
              "        [0.2939, 0.5185, 0.6977, 0.8000, 0.1610, 0.2823, 0.6816],\n",
              "        [0.9152, 0.3971, 0.8742, 0.4194, 0.5529, 0.9527, 0.0362],\n",
              "        [0.1852, 0.3734, 0.3051, 0.9320, 0.1759, 0.2698, 0.1507],\n",
              "        [0.0317, 0.2081, 0.9298, 0.7231, 0.7423, 0.5263, 0.2437],\n",
              "        [0.5846, 0.0332, 0.1387, 0.2422, 0.8155, 0.7932, 0.2783]])"
            ]
          },
          "metadata": {},
          "execution_count": 17
        }
      ]
    },
    {
      "cell_type": "code",
      "source": [
        "#Perform a matrix multiplication on the tensor from 2 with another random tensor with shape (1, 7)\n",
        "\n",
        "tensor_2=torch.rand(1,7)\n",
        "tensor_2\n",
        "torch.matmul(tensor,tensor_2.T)"
      ],
      "metadata": {
        "colab": {
          "base_uri": "https://localhost:8080/"
        },
        "id": "F_vufQivpgWb",
        "outputId": "61ae22f0-1532-40b3-8cd8-6270011c31e3"
      },
      "execution_count": null,
      "outputs": [
        {
          "output_type": "execute_result",
          "data": {
            "text/plain": [
              "tensor([[1.7854],\n",
              "        [1.5805],\n",
              "        [0.8636],\n",
              "        [1.1080],\n",
              "        [0.9550],\n",
              "        [1.4499],\n",
              "        [1.4836]])"
            ]
          },
          "metadata": {},
          "execution_count": 14
        }
      ]
    },
    {
      "cell_type": "code",
      "source": [
        "#Set the random seed to 0 and do exercises 2 & 3 over again\n",
        "RANDOM_SEED=0\n",
        "torch.manual_seed(RANDOM_SEED)\n",
        "tensor=torch.rand(7,7)\n",
        "tensor\n",
        "\n",
        "torch.manual_seed(RANDOM_SEED)\n",
        "tensor_2=torch.rand(1,7)\n",
        "tensor_2\n",
        "torch.matmul(tensor,tensor_2.T)\n"
      ],
      "metadata": {
        "colab": {
          "base_uri": "https://localhost:8080/"
        },
        "id": "zT4Q16CFqBlH",
        "outputId": "5cb81201-b507-4c81-f160-365b2d950b6d"
      },
      "execution_count": null,
      "outputs": [
        {
          "output_type": "execute_result",
          "data": {
            "text/plain": [
              "tensor([[1.5985],\n",
              "        [1.1173],\n",
              "        [1.2741],\n",
              "        [1.6838],\n",
              "        [0.8279],\n",
              "        [1.0347],\n",
              "        [1.2498]])"
            ]
          },
          "metadata": {},
          "execution_count": 21
        }
      ]
    },
    {
      "cell_type": "code",
      "source": [
        "#Speaking of random seeds, we saw how to set it with torch.manual_seed() but is there a GPU equivalent? (hint: you'll need to look into the documentation for torch.cuda for this one). If there is, set the GPU random seed to 1234.\n",
        "\n",
        "#torch.manual_seed() — set seed in both cpu and gpu.\n",
        "#torch.cuda.manual_seed() — set seed to active GPU.\n",
        "#torch.cuda.manual_seed_all() — set seed to all GPUs.\n",
        "#For full reproducibility: cudnn.deterministic = True and benchmark = False.\n",
        "\n",
        "RANDOM_SEED=1234\n",
        "torch.cuda.manual_seed(RANDOM_SEED)\n",
        "tensor=torch.rand(1,5,device=\"cuda\")     #if device not mentioned then since rand defaultly create tensors on cpu, fails to give same random numbers each time\n",
        "tensor\n"
      ],
      "metadata": {
        "id": "-E65PBulqoyo",
        "colab": {
          "base_uri": "https://localhost:8080/"
        },
        "outputId": "32e4363b-f5ff-4923-fa70-30bb827cb876"
      },
      "execution_count": null,
      "outputs": [
        {
          "output_type": "execute_result",
          "data": {
            "text/plain": [
              "tensor([[0.1272, 0.8167, 0.5440, 0.6601, 0.2721]], device='cuda:0')"
            ]
          },
          "metadata": {},
          "execution_count": 15
        }
      ]
    },
    {
      "cell_type": "code",
      "source": [
        "#Create two random tensors of shape (2, 3) and send them both to the GPU (you'll need access to a GPU for this). Set torch.manual_seed(1234) when creating the tensors (this doesn't have to be the GPU random seed)\n",
        "\n",
        "RANDOM_SEED=1234\n",
        "torch.manual_seed(RANDOM_SEED)\n",
        "tensor_A=torch.rand(2,3)\n",
        "\n",
        "torch.manual_seed(RANDOM_SEED)\n",
        "tensor_B=torch.rand(2,3)\n",
        "print(tensor_A)\n",
        "print(tensor_B)\n",
        "\n",
        "device=\"cuda\" if torch.cuda.is_available() else \"cpu\"\n",
        "tensor_A_on_GPU=tensor_A.to(device)\n",
        "tensor_B_on_GPU=tensor_B.to(device)\n",
        "print(tensor_A_on_GPU)\n",
        "print(tensor_B_on_GPU)"
      ],
      "metadata": {
        "colab": {
          "base_uri": "https://localhost:8080/"
        },
        "id": "t3O9vVydeQO3",
        "outputId": "f79336da-81e0-4bd2-f06c-681410dd0dc7"
      },
      "execution_count": null,
      "outputs": [
        {
          "output_type": "stream",
          "name": "stdout",
          "text": [
            "tensor([[0.0290, 0.4019, 0.2598],\n",
            "        [0.3666, 0.0583, 0.7006]])\n",
            "tensor([[0.0290, 0.4019, 0.2598],\n",
            "        [0.3666, 0.0583, 0.7006]])\n",
            "tensor([[0.0290, 0.4019, 0.2598],\n",
            "        [0.3666, 0.0583, 0.7006]], device='cuda:0')\n",
            "tensor([[0.0290, 0.4019, 0.2598],\n",
            "        [0.3666, 0.0583, 0.7006]], device='cuda:0')\n"
          ]
        }
      ]
    },
    {
      "cell_type": "code",
      "source": [
        "#Perform a matrix multiplication on the tensors you created in 6 (again, you may have to adjust the shapes of one of the tensors).\n",
        "# Ops run on input tensor's device. Ensure all tensors use same device.\n",
        "# For large models, use a device variable to move everything safely.\n",
        "\n",
        "tensor=torch.matmul(tensor_A_on_GPU,tensor_B_on_GPU.T)\n",
        "tensor"
      ],
      "metadata": {
        "colab": {
          "base_uri": "https://localhost:8080/"
        },
        "id": "gGbP9JWXhnnW",
        "outputId": "c13de2f8-8f72-4abe-c449-1872c5c4685d"
      },
      "execution_count": null,
      "outputs": [
        {
          "output_type": "execute_result",
          "data": {
            "text/plain": [
              "tensor([[0.2299, 0.2161],\n",
              "        [0.2161, 0.6287]], device='cuda:0')"
            ]
          },
          "metadata": {},
          "execution_count": 30
        }
      ]
    },
    {
      "cell_type": "code",
      "source": [
        "#Find the maximum and minimum values of the output of 7.\n",
        "max_value=torch.max(tensor)\n",
        "min_value=torch.min(tensor)\n",
        "\n",
        "print(max_value,min_value)"
      ],
      "metadata": {
        "colab": {
          "base_uri": "https://localhost:8080/"
        },
        "id": "JtJVXQoyieuP",
        "outputId": "d391e1b5-d858-4fd5-da02-e7473e148c1d"
      },
      "execution_count": null,
      "outputs": [
        {
          "output_type": "stream",
          "name": "stdout",
          "text": [
            "tensor(0.6287, device='cuda:0') tensor(0.2161, device='cuda:0')\n"
          ]
        }
      ]
    },
    {
      "cell_type": "code",
      "source": [
        "#Find the maximum and minimum index values of the output of 7.\n",
        "max_value_index=torch.argmax(tensor)\n",
        "min_value_index=torch.argmin(tensor)\n",
        "print(max_value_index,min_value_index)"
      ],
      "metadata": {
        "colab": {
          "base_uri": "https://localhost:8080/"
        },
        "id": "4RUawfkWieq0",
        "outputId": "a881e50e-3dbf-4e47-a0df-b0ed44071108"
      },
      "execution_count": null,
      "outputs": [
        {
          "output_type": "stream",
          "name": "stdout",
          "text": [
            "tensor(3, device='cuda:0') tensor(1, device='cuda:0')\n"
          ]
        }
      ]
    },
    {
      "cell_type": "code",
      "source": [
        "#Make a random tensor with shape (1, 1, 1, 10) and then create a new tensor with all the 1 dimensions removed to be left with a tensor of shape (10). Set the seed to 7 when you create it and print out the first tensor and it's shape as well as the second tensor and it's shape\n",
        "\n",
        "RANDOM_SEED=7\n",
        "tensor_original=torch.rand(1,1,1,10)\n",
        "print(tensor_original,tensor_original.shape,tensor_original.device)\n",
        "tensor_squeezed=tensor_original.squeeze()            #torch.squeeze(tensor_original)\n",
        "print(tensor_squeezed,tensor_squeezed.shape,tensor_squeezed.device)"
      ],
      "metadata": {
        "colab": {
          "base_uri": "https://localhost:8080/"
        },
        "id": "s54m6aAkj4Zy",
        "outputId": "a45c4e7b-8456-414a-e590-bd07c47b58d6"
      },
      "execution_count": null,
      "outputs": [
        {
          "output_type": "stream",
          "name": "stdout",
          "text": [
            "tensor([[[[0.8436, 0.4265, 0.9561, 0.0770, 0.4108, 0.0014, 0.5414, 0.6419,\n",
            "           0.2976, 0.7077]]]]) torch.Size([1, 1, 1, 10]) cpu\n",
            "tensor([0.8436, 0.4265, 0.9561, 0.0770, 0.4108, 0.0014, 0.5414, 0.6419, 0.2976,\n",
            "        0.7077]) torch.Size([10]) cpu\n"
          ]
        }
      ]
    }
  ]
}