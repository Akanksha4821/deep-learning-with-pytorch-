{
  "nbformat": 4,
  "nbformat_minor": 0,
  "metadata": {
    "colab": {
      "provenance": []
    },
    "kernelspec": {
      "name": "python3",
      "display_name": "Python 3"
    },
    "language_info": {
      "name": "python"
    }
  },
  "cells": [
    {
      "cell_type": "markdown",
      "source": [
        "what_were covering\n",
        "\n",
        "1.data(prepare and load)\n",
        "\n",
        "2.build model\n",
        "\n",
        "3.fitting the model to data(training)\n",
        "\n",
        "4.making predictions and evaluating a model(inferemce)\n",
        "\n",
        "5.saving and loading a model\n",
        "\n",
        "6.putting it all together"
      ],
      "metadata": {
        "id": "zfmQivD0_VuS"
      }
    },
    {
      "cell_type": "code",
      "source": [
        "import torch\n",
        "from torch import nn #nn contains all of pytorch's building blocks for neural network\n",
        "import matplotlib.pyplot as plt\n"
      ],
      "metadata": {
        "id": "W9NGRiuxAOeP"
      },
      "execution_count": null,
      "outputs": []
    },
    {
      "cell_type": "markdown",
      "source": [
        "1.DATA(preparing and loading)\n",
        "\n",
        "data can be almost anything in machine learning like excel spreadsheet, images,videos,audios,DNA,Text\n",
        "\n",
        "Machine learning is game of two parts\n",
        "\n",
        "->get data into a numerical representation\n",
        "\n",
        "->Build a model learn patterns in that numerical represenatation\n",
        "\n",
        "To showcase this,let's create some **known **data using linear regression formula"
      ],
      "metadata": {
        "id": "ny-YYooHBtJE"
      }
    },
    {
      "cell_type": "code",
      "source": [
        "#slope is also known as gradient\n",
        "#we will use regression  formula to make straight line with known parameters(pattern machine learns)\n",
        "\n",
        "#create known parameters: y=a+bx where weight is b and bias is a\n",
        "#intially->torch.Size([50]),after unsqueeze->torch.Size([50, 1])\n",
        "weight=0.7\n",
        "bias=0.3\n",
        "\n",
        "start=0\n",
        "end=1\n",
        "step=0.02\n",
        "X=torch.arange(start,end,step).unsqueeze(dim=1)\n",
        "y=weight*X + bias\n",
        "X[:10], y[:10],len(X),len(y)\n"
      ],
      "metadata": {
        "colab": {
          "base_uri": "https://localhost:8080/"
        },
        "id": "ZgDQa3fZB01E",
        "outputId": "a3982d22-02e7-42e2-9010-abaa275634ec"
      },
      "execution_count": null,
      "outputs": [
        {
          "output_type": "execute_result",
          "data": {
            "text/plain": [
              "(tensor([[0.0000],\n",
              "         [0.0200],\n",
              "         [0.0400],\n",
              "         [0.0600],\n",
              "         [0.0800],\n",
              "         [0.1000],\n",
              "         [0.1200],\n",
              "         [0.1400],\n",
              "         [0.1600],\n",
              "         [0.1800]]),\n",
              " tensor([[0.3000],\n",
              "         [0.3140],\n",
              "         [0.3280],\n",
              "         [0.3420],\n",
              "         [0.3560],\n",
              "         [0.3700],\n",
              "         [0.3840],\n",
              "         [0.3980],\n",
              "         [0.4120],\n",
              "         [0.4260]]),\n",
              " 50,\n",
              " 50)"
            ]
          },
          "metadata": {},
          "execution_count": 49
        }
      ]
    },
    {
      "cell_type": "code",
      "source": [
        "#splitting data into training and test data\n",
        "#X is feature and y is label\n",
        "train_split=int(0.8 * len(X))\n",
        "X_train,y_train=X[:train_split],y[:train_split]\n",
        "X_test,y_test=X[train_split:],y[train_split:]\n",
        "len(X_train),len(y_train),len(X_test),len(y_test)"
      ],
      "metadata": {
        "colab": {
          "base_uri": "https://localhost:8080/"
        },
        "id": "uz707esRvgqC",
        "outputId": "9c3d2130-e3cc-4f9d-a815-93ddb562486e"
      },
      "execution_count": null,
      "outputs": [
        {
          "output_type": "execute_result",
          "data": {
            "text/plain": [
              "(40, 40, 10, 10)"
            ]
          },
          "metadata": {},
          "execution_count": 50
        }
      ]
    },
    {
      "cell_type": "code",
      "source": [
        "X_train,y_train"
      ],
      "metadata": {
        "colab": {
          "base_uri": "https://localhost:8080/"
        },
        "id": "nE1Oi192zvBn",
        "outputId": "6b14985c-823f-4543-a8b1-d406c2d8af08"
      },
      "execution_count": null,
      "outputs": [
        {
          "output_type": "execute_result",
          "data": {
            "text/plain": [
              "(tensor([[0.0000],\n",
              "         [0.0200],\n",
              "         [0.0400],\n",
              "         [0.0600],\n",
              "         [0.0800],\n",
              "         [0.1000],\n",
              "         [0.1200],\n",
              "         [0.1400],\n",
              "         [0.1600],\n",
              "         [0.1800],\n",
              "         [0.2000],\n",
              "         [0.2200],\n",
              "         [0.2400],\n",
              "         [0.2600],\n",
              "         [0.2800],\n",
              "         [0.3000],\n",
              "         [0.3200],\n",
              "         [0.3400],\n",
              "         [0.3600],\n",
              "         [0.3800],\n",
              "         [0.4000],\n",
              "         [0.4200],\n",
              "         [0.4400],\n",
              "         [0.4600],\n",
              "         [0.4800],\n",
              "         [0.5000],\n",
              "         [0.5200],\n",
              "         [0.5400],\n",
              "         [0.5600],\n",
              "         [0.5800],\n",
              "         [0.6000],\n",
              "         [0.6200],\n",
              "         [0.6400],\n",
              "         [0.6600],\n",
              "         [0.6800],\n",
              "         [0.7000],\n",
              "         [0.7200],\n",
              "         [0.7400],\n",
              "         [0.7600],\n",
              "         [0.7800]]),\n",
              " tensor([[0.3000],\n",
              "         [0.3140],\n",
              "         [0.3280],\n",
              "         [0.3420],\n",
              "         [0.3560],\n",
              "         [0.3700],\n",
              "         [0.3840],\n",
              "         [0.3980],\n",
              "         [0.4120],\n",
              "         [0.4260],\n",
              "         [0.4400],\n",
              "         [0.4540],\n",
              "         [0.4680],\n",
              "         [0.4820],\n",
              "         [0.4960],\n",
              "         [0.5100],\n",
              "         [0.5240],\n",
              "         [0.5380],\n",
              "         [0.5520],\n",
              "         [0.5660],\n",
              "         [0.5800],\n",
              "         [0.5940],\n",
              "         [0.6080],\n",
              "         [0.6220],\n",
              "         [0.6360],\n",
              "         [0.6500],\n",
              "         [0.6640],\n",
              "         [0.6780],\n",
              "         [0.6920],\n",
              "         [0.7060],\n",
              "         [0.7200],\n",
              "         [0.7340],\n",
              "         [0.7480],\n",
              "         [0.7620],\n",
              "         [0.7760],\n",
              "         [0.7900],\n",
              "         [0.8040],\n",
              "         [0.8180],\n",
              "         [0.8320],\n",
              "         [0.8460]]))"
            ]
          },
          "metadata": {},
          "execution_count": 51
        }
      ]
    },
    {
      "cell_type": "code",
      "source": [
        "y_test , len(y_test)"
      ],
      "metadata": {
        "colab": {
          "base_uri": "https://localhost:8080/"
        },
        "id": "0q1s1CJ7-OR4",
        "outputId": "0ba748e4-87b4-4655-8607-7bffa7abfbdc"
      },
      "execution_count": null,
      "outputs": [
        {
          "output_type": "execute_result",
          "data": {
            "text/plain": [
              "(tensor([[0.8600],\n",
              "         [0.8740],\n",
              "         [0.8880],\n",
              "         [0.9020],\n",
              "         [0.9160],\n",
              "         [0.9300],\n",
              "         [0.9440],\n",
              "         [0.9580],\n",
              "         [0.9720],\n",
              "         [0.9860]]),\n",
              " 10)"
            ]
          },
          "metadata": {},
          "execution_count": 52
        }
      ]
    },
    {
      "cell_type": "code",
      "source": [
        "X_test, len(X_test)"
      ],
      "metadata": {
        "colab": {
          "base_uri": "https://localhost:8080/"
        },
        "id": "mPDXKB9P-TKu",
        "outputId": "ce282dc2-aafc-4182-c10f-391e9509be4a"
      },
      "execution_count": null,
      "outputs": [
        {
          "output_type": "execute_result",
          "data": {
            "text/plain": [
              "(tensor([[0.8000],\n",
              "         [0.8200],\n",
              "         [0.8400],\n",
              "         [0.8600],\n",
              "         [0.8800],\n",
              "         [0.9000],\n",
              "         [0.9200],\n",
              "         [0.9400],\n",
              "         [0.9600],\n",
              "         [0.9800]]),\n",
              " 10)"
            ]
          },
          "metadata": {},
          "execution_count": 53
        }
      ]
    },
    {
      "cell_type": "code",
      "source": [
        "#visualizing our data\n",
        "def plot_predictions(train_data=X_train,\n",
        "                     train_label=y_train,\n",
        "                     test_data=X_test,\n",
        "                     test_label=y_test,\n",
        "                     predictions=None):\n",
        "  plt.figure(figsize=(6,5))\n",
        "  plt.scatter(train_data,train_label,c=\"r\",s=4,label=\"Training data\")   #c is colour and s is size\n",
        "\n",
        "  plt.scatter(test_data,test_label,c=\"g\",s=4,label=\"Testing data\")\n",
        "\n",
        "  if predictions is not None:\n",
        "    plt.scatter(test_data,predictions,c=\"b\",s=4,label=\"Predictions\")\n",
        "\n",
        "  plt.legend(prop={\"size\":14})"
      ],
      "metadata": {
        "id": "o-O7b_Qrz5Lc"
      },
      "execution_count": null,
      "outputs": []
    },
    {
      "cell_type": "code",
      "source": [
        "plot_predictions();"
      ],
      "metadata": {
        "colab": {
          "base_uri": "https://localhost:8080/",
          "height": 445
        },
        "id": "ZdahlypA4zBA",
        "outputId": "387ce8b7-6a4c-4969-d709-da8e4dcd31ea"
      },
      "execution_count": null,
      "outputs": [
        {
          "output_type": "display_data",
          "data": {
            "text/plain": [
              "<Figure size 600x500 with 1 Axes>"
            ],
            "image/png": "[encoded data removed]"
          },
          "metadata": {}
        }
      ]
    },
    {
      "cell_type": "markdown",
      "source": [
        "Building our first pytorch model\n"
      ],
      "metadata": {
        "id": "gO5YffJI2jnZ"
      }
    },
    {
      "cell_type": "markdown",
      "source": [
        "what our model does?\n",
        "\n",
        "1.start with random values(weight and bias)\n",
        "\n",
        "2.look at training data and adjust the random values to better represent(or get closer to) the ideal values(the weight and bias values we used to create data . eg.0.7,0.3)\n",
        "\n",
        "\n",
        "how does it do so?\n",
        "\n",
        "1.Gradient descent\n",
        "\n",
        "2.BackPropagation"
      ],
      "metadata": {
        "id": "F6E1J11YJ7vn"
      }
    },
    {
      "cell_type": "code",
      "source": [
        "#we will be creating a linear regression model class\n",
        "# torch.rand() -> Generates values from a uniform distribution in [0, 1)\n",
        "# torch.randn() -> Generates values from a normal distribution with mean=0 and std=1 (can be negative or positive)\n",
        "#torch..autograd module in pytorch implements gradient descent\n",
        "class LinearRegressionModel(nn.Module):     # almost everything in pytorch inherits from nn.Module, it is base class for all neural network modules\n",
        "  def __init__(self):\n",
        "    super().__init__()\n",
        "    self.weights=nn.Parameter(torch.randn(1,\n",
        "                                          requires_grad=True,\n",
        "                                          dtype=torch.float))\n",
        "\n",
        "    self.bias=nn.Parameter(torch.randn(1,\n",
        "                                       requires_grad=True,\n",
        "                                       dtype=torch.float))\n",
        "\n",
        "  #forward method to define the computation in the mode\n",
        "  def forward(self,x:torch.Tensor) -> torch.Tensor:\n",
        "    return self.weights*x + self.bias"
      ],
      "metadata": {
        "id": "KC6-AiB12odb"
      },
      "execution_count": null,
      "outputs": []
    },
    {
      "cell_type": "markdown",
      "source": [
        "pytorch model building essentials\n",
        "\n",
        "1.torch.nn- contains all building blocks for computational graph(neural network)\n",
        "\n",
        "2.torch.nn.Parameter- what parameters should our model try and learn,often a pytorch layer from torch.nn will set these for us\n",
        "\n",
        "3.torch.nn.Moodule- base class for all neural network modules, if you subclass it,you should overwrite forward()\n",
        "\n",
        "4.torch.optim- this where optimizers in python live, they will help with gradient descent\n",
        "\n",
        "5.def forward()- all nn.Module subclass require you to overwrite forward(), this method define what happens in forward computation."
      ],
      "metadata": {
        "id": "er276tFhyP04"
      }
    },
    {
      "cell_type": "markdown",
      "source": [
        "checking contents of our pytorch model\n",
        "now we have created our model,let's see what inside...\n",
        "\n",
        "so we can checkout our model parameters or what's inside our model using '.parameters'\n"
      ],
      "metadata": {
        "id": "iOl4enffAz5t"
      }
    },
    {
      "cell_type": "code",
      "source": [
        "#create a random seed\n",
        "import torch\n",
        "torch.manual_seed(42)\n",
        "\n",
        "#create an instance of the model(this is a subclass of nn.Module)\n",
        "model_0=LinearRegressionModel()\n",
        "\n",
        "#check out the parameters\n",
        "list(model_0.parameters())"
      ],
      "metadata": {
        "colab": {
          "base_uri": "https://localhost:8080/"
        },
        "id": "UYrxzAS_JGY6",
        "outputId": "fd98ec3e-ec5b-4690-c8e1-8677ca703648"
      },
      "execution_count": null,
      "outputs": [
        {
          "output_type": "execute_result",
          "data": {
            "text/plain": [
              "[Parameter containing:\n",
              " tensor([0.3367], requires_grad=True),\n",
              " Parameter containing:\n",
              " tensor([0.1288], requires_grad=True)]"
            ]
          },
          "metadata": {},
          "execution_count": 57
        }
      ]
    },
    {
      "cell_type": "code",
      "source": [
        "#List named parameters\n",
        "model_0.state_dict()"
      ],
      "metadata": {
        "colab": {
          "base_uri": "https://localhost:8080/"
        },
        "id": "RxFSu1GTMFAq",
        "outputId": "640c11c1-a7b1-4082-e669-680d5c4ca440"
      },
      "execution_count": null,
      "outputs": [
        {
          "output_type": "execute_result",
          "data": {
            "text/plain": [
              "OrderedDict([('weights', tensor([0.3367])), ('bias', tensor([0.1288]))])"
            ]
          },
          "metadata": {},
          "execution_count": 58
        }
      ]
    },
    {
      "cell_type": "markdown",
      "source": [
        "**making predictions using torch.inference_mode()**\n",
        "\n",
        "predict y_test based on X_test\n",
        "\n",
        "when we pass data through our model, it's going through the forward() method\n",
        "\n"
      ],
      "metadata": {
        "id": "HnrMuQ_GNhfp"
      }
    },
    {
      "cell_type": "code",
      "source": [
        "#make predictions with model\n",
        "with torch.inference_mode():     #with torch.no_grad()\n",
        "  y_preds=model_0(X_test)\n",
        "y_preds"
      ],
      "metadata": {
        "colab": {
          "base_uri": "https://localhost:8080/"
        },
        "id": "YwsZnEVhNoZO",
        "outputId": "a84bb1c7-5863-4f9d-daf4-5e501afb80fd"
      },
      "execution_count": null,
      "outputs": [
        {
          "output_type": "execute_result",
          "data": {
            "text/plain": [
              "tensor([[0.3982],\n",
              "        [0.4049],\n",
              "        [0.4116],\n",
              "        [0.4184],\n",
              "        [0.4251],\n",
              "        [0.4318],\n",
              "        [0.4386],\n",
              "        [0.4453],\n",
              "        [0.4520],\n",
              "        [0.4588]])"
            ]
          },
          "metadata": {},
          "execution_count": 59
        }
      ]
    },
    {
      "cell_type": "code",
      "source": [
        "plot_predictions(predictions=y_preds)"
      ],
      "metadata": {
        "colab": {
          "base_uri": "https://localhost:8080/",
          "height": 445
        },
        "id": "QMl9gvOk91Et",
        "outputId": "fc2f3982-588f-4782-c60e-953d9d846917"
      },
      "execution_count": null,
      "outputs": [
        {
          "output_type": "display_data",
          "data": {
            "text/plain": [
              "<Figure size 600x500 with 1 Axes>"
            ],
            "image/png": "[encoded data removed]"
          },
          "metadata": {}
        }
      ]
    },
    {
      "cell_type": "markdown",
      "source": [
        "since our model is intialized with random numbers it is making random predictions. extremely far from ideal y_test"
      ],
      "metadata": {
        "id": "89Nm5j5OAYHD"
      }
    },
    {
      "cell_type": "markdown",
      "source": [
        "Train Model\n",
        "\n",
        "The whole idea of training is for a model to move from some unknown parameters(these maybe random) to known parameter.\n",
        "\n",
        "In other words, from poor represnetation of data to better represnetation of data\n",
        "\n",
        "one way to measure how poor or how wrong model predeictions are is to use loss function\n",
        "note: loss function may also called cost function or criterion\n",
        "\n",
        "Things we need to train:\n",
        "1.loss function: A function to measure how long your model prediction is to ideal prediction. lower the loss function, better!\n",
        "\n",
        "2.optimizer: takes into account the loss of a model and adjusts the model's parameter(eg. weight and bias) to improve loss function.\n",
        "\n",
        "\n",
        "specifically for pytorch we need:\n",
        "\n",
        "1.training loop\n",
        "\n",
        "2.testing loop\n"
      ],
      "metadata": {
        "id": "fhdx4cQYMDhO"
      }
    },
    {
      "cell_type": "code",
      "source": [
        "#a parameter is a value that the model sets itself.Parameters help model \"learn\" those patterns.\n",
        "model_0.state_dict()"
      ],
      "metadata": {
        "colab": {
          "base_uri": "https://localhost:8080/"
        },
        "id": "XBEmXvnMMCwr",
        "outputId": "c5d0c5f4-7cab-416b-caf9-b47452ee6887"
      },
      "execution_count": null,
      "outputs": [
        {
          "output_type": "execute_result",
          "data": {
            "text/plain": [
              "OrderedDict([('weights', tensor([0.3367])), ('bias', tensor([0.1288]))])"
            ]
          },
          "metadata": {},
          "execution_count": 61
        }
      ]
    },
    {
      "cell_type": "markdown",
      "source": [
        "lr=learning rate,very importnat hyperparameter that you can set.\n",
        "smaller the learning rate, smaller the change in parameter\n",
        "\n",
        "params- the model parameters you would optimize"
      ],
      "metadata": {
        "id": "VRV7YhVI-hDS"
      }
    },
    {
      "cell_type": "code",
      "source": [
        "#in pytorch L1Loss->MAE and L2Loss->MSE  (usually used in regression problem)\n",
        "#Setup a loss function\n",
        "loss_fn=nn.L1Loss()\n",
        "loss_fn\n",
        "\n",
        "#setup an optimizer (stochastic gradient descent)\n",
        "optimizer=torch.optim.SGD(params=model_0.parameters(),\n",
        "                          lr=0.01)"
      ],
      "metadata": {
        "id": "0sqemFni6m87"
      },
      "execution_count": null,
      "outputs": []
    },
    {
      "cell_type": "markdown",
      "source": [
        "Building a training and testing loop\n",
        "\n",
        "things we need to do in training loops:\n",
        "\n",
        " ->>loop through the data and do....\n",
        "\n",
        "step1:forward passthis involves data moving through our model's forward() function(data moving from input to output layer) to make prediction on data, also called forward propagation\n",
        "\n",
        "step2:calculate the loss(compare forward pass prediction to ground truth labels)\n",
        "\n",
        "step3:optimize zero grad\n",
        "\n",
        "step4:loss backward- move backward through the network to calculate the gradients of each of the parameters of our model with respect to the loss.(backpropagation)\n",
        "\n",
        "step5:optimizer-use optimizer to adjust parameters to improve loss(gradient descent)"
      ],
      "metadata": {
        "id": "ksDslL7n6HM2"
      }
    },
    {
      "cell_type": "markdown",
      "source": [
        "gradient is slope. i.e change in y/change in x\n",
        "\n"
      ],
      "metadata": {
        "id": "0RIO8qevI3uY"
      }
    },
    {
      "cell_type": "code",
      "source": [
        "#An epoch is one loop through the data (this is hyperparameter since we set it ourselves)\n",
        "epochs=200\n",
        "\n",
        "#track different values\n",
        "epoch_count=[]\n",
        "loss_values=[]\n",
        "test_loss_values=[]\n",
        "\n",
        "for epoch in range(epochs):\n",
        "  #set the model to training mode(default mode)\n",
        "  model_0.train()    #train mode in pytorch set all parameter that require gradients to require gradients\n",
        "\n",
        "  #foward pass\n",
        "  y_pred=model_0(X_train)   #this will perform forward method located within the model object.Behind the scenes, it calls model_0.forward(X_train).\n",
        "\n",
        "  #claculate the loss\n",
        "  loss=loss_fn(y_pred,y_train)\n",
        "\n",
        "\n",
        "  #optimizer zero grad\n",
        "  optimizer.zero_grad()\n",
        "\n",
        "  #perform back propagation on the loss with respect to the parameters of the model\n",
        "  loss.backward()\n",
        "\n",
        "  #optimixer(perfoem gradient descent)\n",
        "  optimizer.step()     #the changes wil accumulate through the loop ..so we have to zero them for the next iteration of the loop\n",
        "\n",
        "  #Testing loop\n",
        "  model_0.eval()   #turns off different settings in model not needed for evaluaion/testing(dropout/batchnorm layer)\n",
        "  with torch.inference_mode():\n",
        "      #do the forward pass in testing mode\n",
        "      test_pred=model_0(X_test)\n",
        "\n",
        "      #calculate loss\n",
        "      test_loss=loss_fn(test_pred,y_test)\n",
        "  if epoch%10==0:\n",
        "    epoch_count.append(epoch)\n",
        "    loss_values.append(loss)\n",
        "    test_loss_values.append(test_loss)\n",
        "    print(f\"Epoch: {epoch} | Loss: {loss} | Test loss: {test_loss}\")\n",
        "print(f\"Epoch: {epoch_count} | Loss: {loss_values} | Test loss: {test_loss_values}\")\n",
        "\n"
      ],
      "metadata": {
        "id": "v0bM1qoH6Fsk",
        "colab": {
          "base_uri": "https://localhost:8080/"
        },
        "outputId": "f932ccb1-5a61-4b4d-e3c7-e5e5ad6d26cd"
      },
      "execution_count": null,
      "outputs": [
        {
          "output_type": "stream",
          "name": "stdout",
          "text": [
            "Epoch: 0 | Loss: 0.31288138031959534 | Test loss: 0.48106518387794495\n",
            "Epoch: 10 | Loss: 0.1976713240146637 | Test loss: 0.3463551998138428\n",
            "Epoch: 20 | Loss: 0.08908725529909134 | Test loss: 0.21729660034179688\n",
            "Epoch: 30 | Loss: 0.053148526698350906 | Test loss: 0.14464017748832703\n",
            "Epoch: 40 | Loss: 0.04543796554207802 | Test loss: 0.11360953003168106\n",
            "Epoch: 50 | Loss: 0.04167863354086876 | Test loss: 0.09919948130846024\n",
            "Epoch: 60 | Loss: 0.03818932920694351 | Test loss: 0.08886633068323135\n",
            "Epoch: 70 | Loss: 0.03476089984178543 | Test loss: 0.0805937647819519\n",
            "Epoch: 80 | Loss: 0.03132382780313492 | Test loss: 0.07232122868299484\n",
            "Epoch: 90 | Loss: 0.02788739837706089 | Test loss: 0.06473556160926819\n",
            "Epoch: 100 | Loss: 0.024458957836031914 | Test loss: 0.05646304413676262\n",
            "Epoch: 110 | Loss: 0.021020207554101944 | Test loss: 0.04819049686193466\n",
            "Epoch: 120 | Loss: 0.01758546568453312 | Test loss: 0.04060482233762741\n",
            "Epoch: 130 | Loss: 0.014155393466353416 | Test loss: 0.03233227878808975\n",
            "Epoch: 140 | Loss: 0.010716589167714119 | Test loss: 0.024059748277068138\n",
            "Epoch: 150 | Loss: 0.0072835334576666355 | Test loss: 0.016474086791276932\n",
            "Epoch: 160 | Loss: 0.0038517764769494534 | Test loss: 0.008201557211577892\n",
            "Epoch: 170 | Loss: 0.008932482451200485 | Test loss: 0.005023092031478882\n",
            "Epoch: 180 | Loss: 0.008932482451200485 | Test loss: 0.005023092031478882\n",
            "Epoch: 190 | Loss: 0.008932482451200485 | Test loss: 0.005023092031478882\n",
            "Epoch: [0, 10, 20, 30, 40, 50, 60, 70, 80, 90, 100, 110, 120, 130, 140, 150, 160, 170, 180, 190] | Loss: [tensor(0.3129, grad_fn=<MeanBackward0>), tensor(0.1977, grad_fn=<MeanBackward0>), tensor(0.0891, grad_fn=<MeanBackward0>), tensor(0.0531, grad_fn=<MeanBackward0>), tensor(0.0454, grad_fn=<MeanBackward0>), tensor(0.0417, grad_fn=<MeanBackward0>), tensor(0.0382, grad_fn=<MeanBackward0>), tensor(0.0348, grad_fn=<MeanBackward0>), tensor(0.0313, grad_fn=<MeanBackward0>), tensor(0.0279, grad_fn=<MeanBackward0>), tensor(0.0245, grad_fn=<MeanBackward0>), tensor(0.0210, grad_fn=<MeanBackward0>), tensor(0.0176, grad_fn=<MeanBackward0>), tensor(0.0142, grad_fn=<MeanBackward0>), tensor(0.0107, grad_fn=<MeanBackward0>), tensor(0.0073, grad_fn=<MeanBackward0>), tensor(0.0039, grad_fn=<MeanBackward0>), tensor(0.0089, grad_fn=<MeanBackward0>), tensor(0.0089, grad_fn=<MeanBackward0>), tensor(0.0089, grad_fn=<MeanBackward0>)] | Test loss: [tensor(0.4811), tensor(0.3464), tensor(0.2173), tensor(0.1446), tensor(0.1136), tensor(0.0992), tensor(0.0889), tensor(0.0806), tensor(0.0723), tensor(0.0647), tensor(0.0565), tensor(0.0482), tensor(0.0406), tensor(0.0323), tensor(0.0241), tensor(0.0165), tensor(0.0082), tensor(0.0050), tensor(0.0050), tensor(0.0050)]\n"
          ]
        }
      ]
    },
    {
      "cell_type": "code",
      "source": [
        "#making prediction again to check\n",
        "with torch.inference_mode():\n",
        "    y_preds_new = model_0(X_test)\n",
        "\n",
        "y_preds_new\n"
      ],
      "metadata": {
        "id": "yMTixVnX8Dvn",
        "colab": {
          "base_uri": "https://localhost:8080/"
        },
        "outputId": "24abb3b1-b6d7-4c31-a717-3b7071cae189"
      },
      "execution_count": null,
      "outputs": [
        {
          "output_type": "execute_result",
          "data": {
            "text/plain": [
              "tensor([[0.8685],\n",
              "        [0.8825],\n",
              "        [0.8965],\n",
              "        [0.9105],\n",
              "        [0.9245],\n",
              "        [0.9384],\n",
              "        [0.9524],\n",
              "        [0.9664],\n",
              "        [0.9804],\n",
              "        [0.9944]])"
            ]
          },
          "metadata": {},
          "execution_count": 64
        }
      ]
    },
    {
      "cell_type": "code",
      "source": [
        "#our first visualization when we did not train aur model. just built and predicted\n",
        "plot_predictions(predictions=y_preds)"
      ],
      "metadata": {
        "id": "ORpE4Lk2-wzM",
        "colab": {
          "base_uri": "https://localhost:8080/",
          "height": 445
        },
        "outputId": "e1fe6270-dfee-4c6e-abe1-b704bdc41668"
      },
      "execution_count": null,
      "outputs": [
        {
          "output_type": "display_data",
          "data": {
            "text/plain": [
              "<Figure size 600x500 with 1 Axes>"
            ],
            "image/png": "[encoded data removed]"
          },
          "metadata": {}
        }
      ]
    },
    {
      "cell_type": "code",
      "source": [
        "#after training the model. the predictions are very better\n",
        "plot_predictions(predictions=y_preds_new)"
      ],
      "metadata": {
        "id": "2ZXREiCV--gF",
        "colab": {
          "base_uri": "https://localhost:8080/",
          "height": 445
        },
        "outputId": "ec14cd2b-c5ff-46ce-948a-57f6cbbf6e67"
      },
      "execution_count": null,
      "outputs": [
        {
          "output_type": "display_data",
          "data": {
            "text/plain": [
              "<Figure size 600x500 with 1 Axes>"
            ],
            "image/png": "[encoded data removed]"
          },
          "metadata": {}
        }
      ]
    },
    {
      "cell_type": "markdown",
      "source": [
        "**Saving a model in pytorch**"
      ],
      "metadata": {
        "id": "X86mziJyoRS3"
      }
    },
    {
      "cell_type": "markdown",
      "source": [
        "There are three main methods we should know about for saving and loading models in pytorch:\n",
        "\n",
        "1.torch.save()- allows to save pytorch object in python's pickle format\n",
        "\n",
        "2.torch.load()-allows you to load a saved pytorch object\n",
        "\n",
        "3.torch.nn.module.load_state_dict()-allows to load a model's saved state dictionary"
      ],
      "metadata": {
        "id": "wbwq8ZhcY1JK"
      }
    },
    {
      "cell_type": "code",
      "source": [
        "#the optimizer too has its state_dict i.e optimizer.state_dict()\n",
        "model_0.state_dict()"
      ],
      "metadata": {
        "colab": {
          "base_uri": "https://localhost:8080/"
        },
        "id": "1v761ArJqw8-",
        "outputId": "613f027c-2ae8-4108-a045-7b15fc417e4a"
      },
      "execution_count": null,
      "outputs": [
        {
          "output_type": "execute_result",
          "data": {
            "text/plain": [
              "OrderedDict([('weights', tensor([0.6990])), ('bias', tensor([0.3093]))])"
            ]
          },
          "metadata": {},
          "execution_count": 67
        }
      ]
    },
    {
      "cell_type": "code",
      "source": [
        "#saving our pytorch model\n",
        "from pathlib import Path\n",
        "\n",
        "#create a model directory\n",
        "MODEL_PATH= Path(\"models\")\n",
        "MODEL_PATH.mkdir(parents=True,exist_ok=True)\n",
        "\n",
        "#create model save path\n",
        "MODEL_NAME=\"01_pytorch_workflow-model_0.pth\"\n",
        "MODEL_SAVE_PATH=MODEL_PATH/MODEL_NAME\n",
        "\n",
        "MODEL_SAVE_PATH\n",
        "\n",
        "#save the model state dict\n",
        "print(f\"saving model to: {MODEL_SAVE_PATH}\")\n",
        "torch.save(obj=model_0.state_dict(),f=MODEL_SAVE_PATH)"
      ],
      "metadata": {
        "colab": {
          "base_uri": "https://localhost:8080/"
        },
        "id": "XhQ1-JLGt-UN",
        "outputId": "91e1c318-618d-467a-a4d4-c36f6a0d3056"
      },
      "execution_count": null,
      "outputs": [
        {
          "output_type": "stream",
          "name": "stdout",
          "text": [
            "saving model to: models/01_pytorch_workflow-model_0.pth\n"
          ]
        }
      ]
    },
    {
      "cell_type": "code",
      "source": [
        "!ls -1 models"
      ],
      "metadata": {
        "colab": {
          "base_uri": "https://localhost:8080/"
        },
        "id": "wNXeKTltWUzP",
        "outputId": "5fc5eb18-f45c-4347-c3ac-856e1ce8466e"
      },
      "execution_count": null,
      "outputs": [
        {
          "output_type": "stream",
          "name": "stdout",
          "text": [
            "01_pytorch_workflow-model_0.pth\n",
            "01_pytorch_workflow-model_1.pth\n"
          ]
        }
      ]
    },
    {
      "cell_type": "markdown",
      "source": [
        "**Loading our model back to colab**\n",
        "\n",
        "since we saved our model state_dict() rather than entire model. we will create a new instance of ur model class and load the saved state_dict() into that"
      ],
      "metadata": {
        "id": "Fx-IzbuXWl1z"
      }
    },
    {
      "cell_type": "code",
      "source": [
        "#to load in a saved_dict, instantiate a new instance of our model class\n",
        "\n",
        "loaded_model_0=LinearRegressionModel()\n",
        "\n",
        "#load the savedstate dict of model_0(this will update the new instance with updated parameters)\n",
        "loaded_model_0.load_state_dict(torch.load(f=MODEL_SAVE_PATH))"
      ],
      "metadata": {
        "colab": {
          "base_uri": "https://localhost:8080/"
        },
        "id": "83aTptuVWiV2",
        "outputId": "3868850d-33b7-4568-9608-e0f2f81159ba"
      },
      "execution_count": null,
      "outputs": [
        {
          "output_type": "execute_result",
          "data": {
            "text/plain": [
              "<All keys matched successfully>"
            ]
          },
          "metadata": {},
          "execution_count": 70
        }
      ]
    },
    {
      "cell_type": "code",
      "source": [
        "loaded_model_0.state_dict()"
      ],
      "metadata": {
        "colab": {
          "base_uri": "https://localhost:8080/"
        },
        "id": "cpb88RFxcQOB",
        "outputId": "61ec789f-21b8-4b04-ce65-a64e125250a7"
      },
      "execution_count": null,
      "outputs": [
        {
          "output_type": "execute_result",
          "data": {
            "text/plain": [
              "OrderedDict([('weights', tensor([0.6990])), ('bias', tensor([0.3093]))])"
            ]
          },
          "metadata": {},
          "execution_count": 71
        }
      ]
    },
    {
      "cell_type": "code",
      "source": [
        "#make some prediction with our loaded model\n",
        "loaded_model_0.eval()   #in eval mode , predictions are faster\n",
        "with torch.inference_mode():\n",
        "  Loaded_model_preds=loaded_model_0(X_test)\n",
        "  print(Loaded_model_preds)"
      ],
      "metadata": {
        "colab": {
          "base_uri": "https://localhost:8080/"
        },
        "id": "bK4gu342cXa0",
        "outputId": "bb84569d-a887-4ca4-bae5-3b2cfa9ff0ab"
      },
      "execution_count": null,
      "outputs": [
        {
          "output_type": "stream",
          "name": "stdout",
          "text": [
            "tensor([[0.8685],\n",
            "        [0.8825],\n",
            "        [0.8965],\n",
            "        [0.9105],\n",
            "        [0.9245],\n",
            "        [0.9384],\n",
            "        [0.9524],\n",
            "        [0.9664],\n",
            "        [0.9804],\n",
            "        [0.9944]])\n"
          ]
        }
      ]
    },
    {
      "cell_type": "code",
      "source": [
        "#compare loaded model preds with original model preds\n",
        "y_preds_new==Loaded_model_preds"
      ],
      "metadata": {
        "colab": {
          "base_uri": "https://localhost:8080/"
        },
        "id": "GBLc3qsac43c",
        "outputId": "fb16f087-3243-4c09-8c14-f15b8968b3c7"
      },
      "execution_count": null,
      "outputs": [
        {
          "output_type": "execute_result",
          "data": {
            "text/plain": [
              "tensor([[True],\n",
              "        [True],\n",
              "        [True],\n",
              "        [True],\n",
              "        [True],\n",
              "        [True],\n",
              "        [True],\n",
              "        [True],\n",
              "        [True],\n",
              "        [True]])"
            ]
          },
          "metadata": {},
          "execution_count": 73
        }
      ]
    },
    {
      "cell_type": "markdown",
      "source": [
        "y_preds=untrained model prediction\n",
        "\n",
        "y_preds_new=trained model prediction\n",
        "\n",
        "Loded_model_preds=loaded previous model prediction with same parameters values(state dict) but new instance"
      ],
      "metadata": {
        "id": "6lHoC69UepoB"
      }
    },
    {
      "cell_type": "markdown",
      "source": [
        "->PUTTING ALL TOGETHER"
      ],
      "metadata": {
        "id": "3vx8eetPi4BC"
      }
    },
    {
      "cell_type": "code",
      "source": [
        "import torch\n",
        "import matplotlib as plt\n",
        "from torch import nn"
      ],
      "metadata": {
        "id": "Z4YimlBYemvj"
      },
      "execution_count": null,
      "outputs": []
    },
    {
      "cell_type": "markdown",
      "source": [
        "create device agnostic code\n",
        "\n",
        "this means if we get access to gpu our code will use it for faster computing.\n",
        "\n",
        "if no gpu is available , the code will default to using cpu"
      ],
      "metadata": {
        "id": "EJc3mzZNndj8"
      }
    },
    {
      "cell_type": "code",
      "source": [
        "device=\"cuda\" if torch.cuda.is_available() else \"cpu\"\n",
        "print(f\"using device:{device}\")"
      ],
      "metadata": {
        "colab": {
          "base_uri": "https://localhost:8080/"
        },
        "id": "GsA-rqX8jhku",
        "outputId": "82a0025b-2b9a-4b9f-8973-66fc141ba9a5"
      },
      "execution_count": null,
      "outputs": [
        {
          "output_type": "stream",
          "name": "stdout",
          "text": [
            "using device:cpu\n"
          ]
        }
      ]
    },
    {
      "cell_type": "code",
      "source": [
        "#creating dummy dataset y=weight* x + bias\n",
        "weight=0.7\n",
        "bias-0.3\n",
        "start=0\n",
        "end=1\n",
        "step=0.02\n",
        "X=torch.arange(start,end,step).unsqueeze(dim=1)  #without unsqueeze,error will pop\n",
        "y=weight * X+ bias\n",
        "print(X,len(X))\n",
        "print(y,len(y))"
      ],
      "metadata": {
        "id": "xD8XCf1xkBzU",
        "colab": {
          "base_uri": "https://localhost:8080/"
        },
        "outputId": "87599644-a7df-40b9-d3fa-bc4f1dc00795"
      },
      "execution_count": null,
      "outputs": [
        {
          "output_type": "stream",
          "name": "stdout",
          "text": [
            "tensor([[0.0000],\n",
            "        [0.0200],\n",
            "        [0.0400],\n",
            "        [0.0600],\n",
            "        [0.0800],\n",
            "        [0.1000],\n",
            "        [0.1200],\n",
            "        [0.1400],\n",
            "        [0.1600],\n",
            "        [0.1800],\n",
            "        [0.2000],\n",
            "        [0.2200],\n",
            "        [0.2400],\n",
            "        [0.2600],\n",
            "        [0.2800],\n",
            "        [0.3000],\n",
            "        [0.3200],\n",
            "        [0.3400],\n",
            "        [0.3600],\n",
            "        [0.3800],\n",
            "        [0.4000],\n",
            "        [0.4200],\n",
            "        [0.4400],\n",
            "        [0.4600],\n",
            "        [0.4800],\n",
            "        [0.5000],\n",
            "        [0.5200],\n",
            "        [0.5400],\n",
            "        [0.5600],\n",
            "        [0.5800],\n",
            "        [0.6000],\n",
            "        [0.6200],\n",
            "        [0.6400],\n",
            "        [0.6600],\n",
            "        [0.6800],\n",
            "        [0.7000],\n",
            "        [0.7200],\n",
            "        [0.7400],\n",
            "        [0.7600],\n",
            "        [0.7800],\n",
            "        [0.8000],\n",
            "        [0.8200],\n",
            "        [0.8400],\n",
            "        [0.8600],\n",
            "        [0.8800],\n",
            "        [0.9000],\n",
            "        [0.9200],\n",
            "        [0.9400],\n",
            "        [0.9600],\n",
            "        [0.9800]]) 50\n",
            "tensor([[0.3000],\n",
            "        [0.3140],\n",
            "        [0.3280],\n",
            "        [0.3420],\n",
            "        [0.3560],\n",
            "        [0.3700],\n",
            "        [0.3840],\n",
            "        [0.3980],\n",
            "        [0.4120],\n",
            "        [0.4260],\n",
            "        [0.4400],\n",
            "        [0.4540],\n",
            "        [0.4680],\n",
            "        [0.4820],\n",
            "        [0.4960],\n",
            "        [0.5100],\n",
            "        [0.5240],\n",
            "        [0.5380],\n",
            "        [0.5520],\n",
            "        [0.5660],\n",
            "        [0.5800],\n",
            "        [0.5940],\n",
            "        [0.6080],\n",
            "        [0.6220],\n",
            "        [0.6360],\n",
            "        [0.6500],\n",
            "        [0.6640],\n",
            "        [0.6780],\n",
            "        [0.6920],\n",
            "        [0.7060],\n",
            "        [0.7200],\n",
            "        [0.7340],\n",
            "        [0.7480],\n",
            "        [0.7620],\n",
            "        [0.7760],\n",
            "        [0.7900],\n",
            "        [0.8040],\n",
            "        [0.8180],\n",
            "        [0.8320],\n",
            "        [0.8460],\n",
            "        [0.8600],\n",
            "        [0.8740],\n",
            "        [0.8880],\n",
            "        [0.9020],\n",
            "        [0.9160],\n",
            "        [0.9300],\n",
            "        [0.9440],\n",
            "        [0.9580],\n",
            "        [0.9720],\n",
            "        [0.9860]]) 50\n"
          ]
        }
      ]
    },
    {
      "cell_type": "code",
      "source": [
        "#create the train and test split\n",
        "train_split=int(0.8*len(X))\n",
        "X_train=X[:train_split]\n",
        "y_train=y[:train_split]\n",
        "X_test=X[train_split:]\n",
        "y_test=y[train_split:]\n",
        "print(len(X_train),len(y_train),len(X_test),len(y_test))"
      ],
      "metadata": {
        "colab": {
          "base_uri": "https://localhost:8080/"
        },
        "id": "GhmEsxwCEvCa",
        "outputId": "9813f33e-8866-4e08-8ba5-55993b019d24"
      },
      "execution_count": null,
      "outputs": [
        {
          "output_type": "stream",
          "name": "stdout",
          "text": [
            "40 40 10 10\n"
          ]
        }
      ]
    },
    {
      "cell_type": "code",
      "source": [
        "#plot the data\n",
        "import matplotlib.pyplot as plt\n",
        "plot_predictions(X_train,y_train,X_test,y_test)"
      ],
      "metadata": {
        "colab": {
          "base_uri": "https://localhost:8080/",
          "height": 445
        },
        "id": "YxBETUCPHYH-",
        "outputId": "e6eadefb-8622-4e65-bba7-7625db0a51fb"
      },
      "execution_count": null,
      "outputs": [
        {
          "output_type": "display_data",
          "data": {
            "text/plain": [
              "<Figure size 600x500 with 1 Axes>"
            ],
            "image/png": "[encoded data removed]"
          },
          "metadata": {}
        }
      ]
    },
    {
      "cell_type": "code",
      "source": [
        "#building pytorch linear model by subclassing nn.Module\n",
        "#linear layer/linear transformation/probing layer/fully connected layer/dense layer\n",
        "class LinearRegressionModelv2(nn.Module):\n",
        "  def __init__(self):\n",
        "    super().__init__()\n",
        "    #use nn.Linear() for creating the model parameters\n",
        "    #nn.linear implemernting linear regression formula(forward method) also creating parameters for us\n",
        "    #in this linear layer, 1 feature and 1 label hence in and out feature size is 1\n",
        "    self.linear_layer=nn.Linear(in_features=1,out_features=1)\n",
        "\n",
        "  def forward(self,x: torch.Tensor) ->torch.Tensor:\n",
        "      return self.linear_layer(x)    #passing x through the linear layers which expxepts 1 inout and 1 output\n",
        "\n",
        "\n",
        "torch.manual_seed(42)\n",
        "model_1=LinearRegressionModelv2()\n",
        "model_1,model_1.state_dict()\n",
        "\n"
      ],
      "metadata": {
        "colab": {
          "base_uri": "https://localhost:8080/"
        },
        "id": "I3UdumEZJt20",
        "outputId": "3aa6512f-a20a-4181-d090-68ec48b56d09"
      },
      "execution_count": null,
      "outputs": [
        {
          "output_type": "execute_result",
          "data": {
            "text/plain": [
              "(LinearRegressionModelv2(\n",
              "   (linear_layer): Linear(in_features=1, out_features=1, bias=True)\n",
              " ),\n",
              " OrderedDict([('linear_layer.weight', tensor([[0.7645]])),\n",
              "              ('linear_layer.bias', tensor([0.8300]))]))"
            ]
          },
          "metadata": {},
          "execution_count": 79
        }
      ]
    },
    {
      "cell_type": "code",
      "source": [
        "#first checking the current device the model is running on\n",
        "next(model_1.parameters()).device\n",
        "#set the model to use the target device\n",
        "model_1.to(device)\n",
        "next(model_1.parameters()).device\n",
        "model_1.state_dict()"
      ],
      "metadata": {
        "colab": {
          "base_uri": "https://localhost:8080/"
        },
        "id": "OAv9TNKSS3wX",
        "outputId": "cf184dd3-5244-4955-f803-fcd6e5a69f76"
      },
      "execution_count": null,
      "outputs": [
        {
          "output_type": "execute_result",
          "data": {
            "text/plain": [
              "OrderedDict([('linear_layer.weight', tensor([[0.7645]])),\n",
              "             ('linear_layer.bias', tensor([0.8300]))])"
            ]
          },
          "metadata": {},
          "execution_count": 80
        }
      ]
    },
    {
      "cell_type": "markdown",
      "source": [
        " We are evaluating the model on the test data after every epoch.\n",
        "\n",
        " This is not to get the final test accuracy, but to monitor the model's performance during training.\n",
        "\n",
        " By checking test loss after each epoch, we can:\n",
        "\n",
        " 1.Track whether the model is improving or not.\n",
        "\n",
        " 2.Detect overfitting early — if training loss decreases but test loss increases.\n",
        "\n",
        " 3.Use early stopping techniques to stop training when test loss stops improving.\n",
        "\n",
        " Though final testing is done after full training, evaluating during training is a useful practice.\n"
      ],
      "metadata": {
        "id": "JG9VtDVXf-fl"
      }
    },
    {
      "cell_type": "code",
      "source": [
        "#training code\n",
        "#set up loss function and optimizer\n",
        "loss_fn=nn.L1Loss()\n",
        "optimizer=torch.optim.SGD(params=model_1.parameters(),lr=0.01)\n",
        "#training and testing loop\n",
        "torch.manual_seed(42)\n",
        "epochs=10\n",
        "#put data on target device\n",
        "X_train=X_train.to(device)\n",
        "y_train=y_train.to(device)\n",
        "X_test=X_test.to(device)\n",
        "y_test=y_test.to(device)\n",
        "for epoch in range(epochs):\n",
        "  model_1.train()\n",
        "  y_pred=model_1(X_train)\n",
        "  Loss=loss_fn(y_pred,y_train)\n",
        "  optimizer.zero_grad()\n",
        "  Loss.backward()\n",
        "  optimizer.step()\n",
        "  model_1.eval()\n",
        "  with torch.inference_mode():\n",
        "    test_pred=model_1(X_test)\n",
        "    test_loss=loss_fn(test_pred,y_test)\n",
        "  if epoch%10==0:\n",
        "    print(f\"Epoch: {epoch} | Loss: {loss} | Test loss: {test_loss}\")\n"
      ],
      "metadata": {
        "colab": {
          "base_uri": "https://localhost:8080/"
        },
        "id": "w6uqoyEpbtcL",
        "outputId": "0050b176-ec67-49cb-f58b-5fba5cac3c96"
      },
      "execution_count": null,
      "outputs": [
        {
          "output_type": "stream",
          "name": "stdout",
          "text": [
            "Epoch: 0 | Loss: 0.0025885067880153656 | Test loss: 0.5739762187004089\n"
          ]
        }
      ]
    },
    {
      "cell_type": "code",
      "source": [
        "print(list(model_1.parameters()))\n"
      ],
      "metadata": {
        "colab": {
          "base_uri": "https://localhost:8080/"
        },
        "id": "lpczJVsOxp0p",
        "outputId": "9b428d96-9e62-4bf5-e35b-d2a71f7317be"
      },
      "execution_count": null,
      "outputs": [
        {
          "output_type": "stream",
          "name": "stdout",
          "text": [
            "[Parameter containing:\n",
            "tensor([[0.7255]], requires_grad=True), Parameter containing:\n",
            "tensor([0.7300], requires_grad=True)]\n"
          ]
        }
      ]
    },
    {
      "cell_type": "code",
      "source": [
        "model_1.eval()\n",
        "with torch.inference_mode():\n",
        "  y_preds=model_1(X_test)\n",
        "y_preds"
      ],
      "metadata": {
        "colab": {
          "base_uri": "https://localhost:8080/"
        },
        "id": "Yxd7681Zyu7s",
        "outputId": "5558761d-a596-4d60-b3e2-9ca40a252c70"
      },
      "execution_count": null,
      "outputs": [
        {
          "output_type": "execute_result",
          "data": {
            "text/plain": [
              "tensor([[1.3104],\n",
              "        [1.3249],\n",
              "        [1.3395],\n",
              "        [1.3540],\n",
              "        [1.3685],\n",
              "        [1.3830],\n",
              "        [1.3975],\n",
              "        [1.4120],\n",
              "        [1.4265],\n",
              "        [1.4410]])"
            ]
          },
          "metadata": {},
          "execution_count": 83
        }
      ]
    },
    {
      "cell_type": "code",
      "source": [
        "plot_predictions(predictions=y_preds.cpu())"
      ],
      "metadata": {
        "colab": {
          "base_uri": "https://localhost:8080/",
          "height": 445
        },
        "id": "9tRM2_BrzAt7",
        "outputId": "2bbef259-e097-4c4f-f1cd-c75ea9cd7b84"
      },
      "execution_count": null,
      "outputs": [
        {
          "output_type": "display_data",
          "data": {
            "text/plain": [
              "<Figure size 600x500 with 1 Axes>"
            ],
            "image/png": "[encoded data removed]"
          },
          "metadata": {}
        }
      ]
    },
    {
      "cell_type": "code",
      "source": [
        "from pathlib import Path\n",
        "#MODEL_PATH=Path(\"models\")\n",
        "#MODEL_PATH.mkdir(parents=True,exist_ok=True)\n",
        "MODEL_NAME=\"01_pytorch_workflow-model_1.pth\"\n",
        "MODEL_SAVE_PATH=MODEL_PATH/MODEL_NAME\n",
        "torch.save(obj=model_1.state_dict(),f=MODEL_SAVE_PATH)"
      ],
      "metadata": {
        "id": "mYYa1QFsznMO"
      },
      "execution_count": null,
      "outputs": []
    },
    {
      "cell_type": "code",
      "source": [
        "loaded_model_1=LinearRegressionModelv2()\n",
        "loaded_model_1.load_state_dict(torch.load(f=MODEL_SAVE_PATH))\n",
        "#put target loaded model to device\n",
        "loaded_model_1.to(device)"
      ],
      "metadata": {
        "colab": {
          "base_uri": "https://localhost:8080/"
        },
        "id": "yDLGm-i20aSG",
        "outputId": "2b05d3fa-a343-4895-a63a-853b8ef138d7"
      },
      "execution_count": null,
      "outputs": [
        {
          "output_type": "execute_result",
          "data": {
            "text/plain": [
              "LinearRegressionModelv2(\n",
              "  (linear_layer): Linear(in_features=1, out_features=1, bias=True)\n",
              ")"
            ]
          },
          "metadata": {},
          "execution_count": 86
        }
      ]
    },
    {
      "cell_type": "code",
      "source": [
        "next(loaded_model_1.parameters()).device"
      ],
      "metadata": {
        "colab": {
          "base_uri": "https://localhost:8080/"
        },
        "id": "iLnsAfTr0uoF",
        "outputId": "112d72ae-707d-4411-ef20-536a69652de6"
      },
      "execution_count": null,
      "outputs": [
        {
          "output_type": "execute_result",
          "data": {
            "text/plain": [
              "device(type='cpu')"
            ]
          },
          "metadata": {},
          "execution_count": 87
        }
      ]
    },
    {
      "cell_type": "code",
      "source": [
        "loaded_model_1.state_dict()"
      ],
      "metadata": {
        "colab": {
          "base_uri": "https://localhost:8080/"
        },
        "id": "ZS9U_MIP0xkF",
        "outputId": "fb00d750-e8df-44f2-f6dc-e87366c9767c"
      },
      "execution_count": null,
      "outputs": [
        {
          "output_type": "execute_result",
          "data": {
            "text/plain": [
              "OrderedDict([('linear_layer.weight', tensor([[0.7255]])),\n",
              "             ('linear_layer.bias', tensor([0.7300]))])"
            ]
          },
          "metadata": {},
          "execution_count": 88
        }
      ]
    },
    {
      "cell_type": "code",
      "source": [
        "loaded_model_1.eval()\n",
        "with torch.inference_mode():\n",
        "  loaded_model_1_preds=loaded_model_1(X_test)\n",
        "loaded_model_1_preds"
      ],
      "metadata": {
        "colab": {
          "base_uri": "https://localhost:8080/"
        },
        "id": "mOFp0TlL05BB",
        "outputId": "d93d9c29-4966-4e88-eebb-de20e662a715"
      },
      "execution_count": null,
      "outputs": [
        {
          "output_type": "execute_result",
          "data": {
            "text/plain": [
              "tensor([[1.3104],\n",
              "        [1.3249],\n",
              "        [1.3395],\n",
              "        [1.3540],\n",
              "        [1.3685],\n",
              "        [1.3830],\n",
              "        [1.3975],\n",
              "        [1.4120],\n",
              "        [1.4265],\n",
              "        [1.4410]])"
            ]
          },
          "metadata": {},
          "execution_count": 89
        }
      ]
    },
    {
      "cell_type": "code",
      "source": [
        "y_preds==loaded_model_1_preds"
      ],
      "metadata": {
        "colab": {
          "base_uri": "https://localhost:8080/"
        },
        "id": "paXsU5Aj09Z1",
        "outputId": "6b7ff029-ffe8-47d7-f877-4e151f8db361"
      },
      "execution_count": null,
      "outputs": [
        {
          "output_type": "execute_result",
          "data": {
            "text/plain": [
              "tensor([[True],\n",
              "        [True],\n",
              "        [True],\n",
              "        [True],\n",
              "        [True],\n",
              "        [True],\n",
              "        [True],\n",
              "        [True],\n",
              "        [True],\n",
              "        [True]])"
            ]
          },
          "metadata": {},
          "execution_count": 90
        }
      ]
    },
    {
      "cell_type": "markdown",
      "source": [
        "**Exercise**\n",
        "( For all exercises, your code should be device agnostic meaning it could run on CPU or GPU if it's available)."
      ],
      "metadata": {
        "id": "6vscG6NDfG1S"
      }
    },
    {
      "cell_type": "markdown",
      "source": [
        "Create a straight line dataset using the linear regression formula (weight * X + bias).\n",
        "\n",
        "Set weight=0.3 and bias=0.9 there should be at least 100 datapoints total.\n",
        "\n",
        "Split the data into 80% training, 20% testing.\n",
        "\n",
        "Plot the training and testing data so it becomes visual."
      ],
      "metadata": {
        "id": "GFgCgAsWfdOA"
      }
    },
    {
      "cell_type": "code",
      "source": [
        "import torch\n",
        "from torch import nn\n",
        "import matplotlib.pyplot as plt\n",
        "\n",
        "device=\"cuda\" if torch.cuda.is_available() else \"cpu\"\n",
        "print(device)\n",
        "\n",
        "weight=0.3\n",
        "bias=0.9\n",
        "start=0\n",
        "end=1\n",
        "step=0.01\n",
        "X=torch.arange(start,end,step).unsqueeze(dim=1)\n",
        "y=weight* X + bias\n",
        "\n",
        "\n",
        "split=int(0.8*len(X))\n",
        "X_train=X[:split]\n",
        "y_train=y[:split]\n",
        "X_test=X[split:]\n",
        "y_test=y[split:]\n",
        "print(len(X_train),len(y_train),len(X_test),len(y_test))\n",
        "\n",
        "\n",
        "def plot_predictions(train_data=X_train,train_Label=y_train,test_data=X_test,test_Label=y_test,predictions=None):\n",
        "    plt.figure(figsize=(10,10))\n",
        "    plt.scatter(train_data,train_Label,c=\"b\",s=2,label=\"Training data\")\n",
        "    plt.scatter(test_data,test_Label,c=\"g\",s=2,label=\"Testing data\")\n",
        "    if predictions is not None:\n",
        "      plt.scatter(test_data,predictions,c=\"r\",s=2,label=\"predicted data\")\n",
        "    plt.legend(prop={\"size\":14})\n",
        "\n",
        "\n",
        "\n",
        "plot_predictions()\n"
      ],
      "metadata": {
        "colab": {
          "base_uri": "https://localhost:8080/",
          "height": 865
        },
        "id": "MBqoI5zGfF28",
        "outputId": "245b09fb-b300-41e9-f759-0dc8fa24f30f"
      },
      "execution_count": null,
      "outputs": [
        {
          "output_type": "stream",
          "name": "stdout",
          "text": [
            "cuda\n",
            "80 80 20 20\n"
          ]
        },
        {
          "output_type": "display_data",
          "data": {
            "text/plain": [
              "<Figure size 1000x1000 with 1 Axes>"
            ],
            "image/png": "[encoded data removed]"
          },
          "metadata": {}
        }
      ]
    },
    {
      "cell_type": "markdown",
      "source": [
        "Build a PyTorch model by subclassing nn.Module.\n",
        "\n",
        "Inside should be a randomly initialized nn.Parameter() with requires_grad=True, one for weights and one for bias.\n",
        "Implement the forward() method to compute the linear regression function you used to create the dataset in 1.\n",
        "\n",
        "Once you've constructed the model, make an instance of it and check its state_dict().\n",
        "\n",
        "Note: If you'd like to use nn.Linear() instead of nn.Parameter() you can."
      ],
      "metadata": {
        "id": "FFXKUtgHv5j8"
      }
    },
    {
      "cell_type": "code",
      "source": [
        "class LinearRegressionModelv3(nn.Module):\n",
        "    def __init__(self):\n",
        "        super().__init__()\n",
        "        self.Linear_layer=nn.Linear(in_features=1,out_features=1)\n",
        "    def forward(self,x:torch.tensor)->torch.tensor:\n",
        "        return self.Linear_layer(x)\n",
        "\n",
        "torch.manual_seed(42)\n",
        "model_2=LinearRegressionModelv3()\n",
        "model_2.state_dict()\n",
        "\n",
        "model_2.to(device)\n",
        "next(model_2.parameters()).device"
      ],
      "metadata": {
        "colab": {
          "base_uri": "https://localhost:8080/"
        },
        "id": "FniKPIxMoHCK",
        "outputId": "fa24b268-b703-4e64-fbba-c79085c29e9a"
      },
      "execution_count": null,
      "outputs": [
        {
          "output_type": "execute_result",
          "data": {
            "text/plain": [
              "device(type='cuda', index=0)"
            ]
          },
          "metadata": {},
          "execution_count": 2
        }
      ]
    },
    {
      "cell_type": "markdown",
      "source": [
        "Create a loss function and optimizer using nn.L1Loss() and torch.optim.SGD(params, lr) respectively.\n",
        "\n",
        "Set the learning rate of the optimizer to be 0.01 and the parameters to optimize should be the model parameters from the model you created in 2.\n",
        "\n",
        "Write a training loop to perform the appropriate training steps for 300 epochs.\n",
        "\n",
        "The training loop should test the model on the test dataset every 20 epochs"
      ],
      "metadata": {
        "id": "ryQVK8Jw5qab"
      }
    },
    {
      "cell_type": "code",
      "source": [
        "X_train=X_train.to(device)\n",
        "y_train=y_train.to(device)\n",
        "X_test=X_test.to(device)\n",
        "y_test=y_test.to(device)\n",
        "loss_fn_new=nn.L1Loss()\n",
        "optimizer_new=torch.optim.Adam(params=model_2.parameters(),lr=0.01)\n",
        "epochs=300\n",
        "for epoch in range(epochs):\n",
        "    model_2.train()\n",
        "    y_pred_new=model_2(X_train)\n",
        "    loss=loss_fn_new(y_pred_new,y_train)\n",
        "    optimizer_new.zero_grad()\n",
        "    loss.backward()\n",
        "    optimizer_new.step()\n",
        "\n",
        "    if epoch%20==0:\n",
        "        model_2.eval()\n",
        "        with torch.inference_mode():\n",
        "            test_pred=model_2(X_test)\n",
        "            test_loss=loss_fn_new(test_pred,y_test)\n",
        "            print(f\"Epoch: {epoch} | Loss: {loss} | Test loss: {test_loss}\")\n"
      ],
      "metadata": {
        "colab": {
          "base_uri": "https://localhost:8080/"
        },
        "id": "F2hEYOKd3mXL",
        "outputId": "f649fbce-0b6d-430c-c17f-99cae14b2ad0"
      },
      "execution_count": null,
      "outputs": [
        {
          "output_type": "stream",
          "name": "stdout",
          "text": [
            "Epoch: 0 | Loss: 0.1275613158941269 | Test loss: 0.32681992650032043\n",
            "Epoch: 20 | Loss: 0.06593604385852814 | Test loss: 0.10931289196014404\n",
            "Epoch: 40 | Loss: 0.032058585435152054 | Test loss: 0.06875057518482208\n",
            "Epoch: 60 | Loss: 0.0019438796443864703 | Test loss: 0.009274548850953579\n",
            "Epoch: 80 | Loss: 0.0023476870264858007 | Test loss: 0.005570918321609497\n",
            "Epoch: 100 | Loss: 0.0015308514703065157 | Test loss: 0.0004207432211842388\n",
            "Epoch: 120 | Loss: 0.004162569530308247 | Test loss: 0.007628637831658125\n",
            "Epoch: 140 | Loss: 0.003665973199531436 | Test loss: 0.006718778517097235\n",
            "Epoch: 160 | Loss: 0.0026628882624208927 | Test loss: 0.004277241416275501\n",
            "Epoch: 180 | Loss: 0.00026640520081855357 | Test loss: 0.0026450396981090307\n",
            "Epoch: 200 | Loss: 0.0012217946350574493 | Test loss: 0.002988111926242709\n",
            "Epoch: 220 | Loss: 0.000634444528259337 | Test loss: 0.002345263957977295\n",
            "Epoch: 240 | Loss: 0.00221223384141922 | Test loss: 0.001145052956417203\n",
            "Epoch: 260 | Loss: 0.0019213780760765076 | Test loss: 0.004304522182792425\n",
            "Epoch: 280 | Loss: 0.0015294753247871995 | Test loss: 0.0004503488598857075\n"
          ]
        }
      ]
    },
    {
      "cell_type": "markdown",
      "source": [
        "Make predictions with the trained model on the test data.\n",
        "\n",
        "Visualize these predictions against the original training and testing data (note: you may need to make sure the predictions are not on the GPU if you want to use non-CUDA-enabled libraries such as matplotlib to plot)"
      ],
      "metadata": {
        "id": "1DPYZB5om60V"
      }
    },
    {
      "cell_type": "code",
      "source": [
        "model_2.eval()\n",
        "with torch.inference_mode():\n",
        "  y_pred_final=model_2(X_test)\n",
        "plot_predictions(predictions=y_pred_final.cpu())"
      ],
      "metadata": {
        "colab": {
          "base_uri": "https://localhost:8080/",
          "height": 830
        },
        "id": "JXKPaRpCl7Y1",
        "outputId": "0f2168f9-de9d-4b20-bc88-a9ce3c31eccc"
      },
      "execution_count": null,
      "outputs": [
        {
          "output_type": "display_data",
          "data": {
            "text/plain": [
              "<Figure size 1000x1000 with 1 Axes>"
            ],
            "image/png": "[encoded data removed]"
          },
          "metadata": {}
        }
      ]
    },
    {
      "cell_type": "markdown",
      "source": [
        "Save your trained model's state_dict() to file.\n",
        "\n",
        "Create a new instance of your model class you made in 2. and load in the state_dict() you just saved to it.\n",
        "\n",
        "Perform predictions on your test data with the loaded model and confirm they match the original model predictions from 4."
      ],
      "metadata": {
        "id": "sI5a3YgPo566"
      }
    },
    {
      "cell_type": "code",
      "source": [
        "from pathlib import Path\n",
        "MODEL_PATH=Path(\"models\")\n",
        "MODEL_PATH.mkdir(parents=True,exist_ok=True)\n",
        "MODEL_NAME=\"01_pytorch_workflow-model_2.pth\"\n",
        "MODEL_SAVE_PATH=MODEL_PATH/MODEL_NAME\n",
        "torch.save(obj=model_2.state_dict(),f=MODEL_SAVE_PATH)"
      ],
      "metadata": {
        "id": "TXFWlAmtqyoc"
      },
      "execution_count": null,
      "outputs": []
    },
    {
      "cell_type": "code",
      "source": [
        "loaded_model_2=LinearRegressionModelv3()\n",
        "loaded_model_2.load_state_dict(torch.load(f=MODEL_SAVE_PATH))\n",
        "loaded_model_2.to(device)"
      ],
      "metadata": {
        "colab": {
          "base_uri": "https://localhost:8080/"
        },
        "id": "G1E9MgvUr5uz",
        "outputId": "c1db6ac5-dad3-415a-b626-0d2a04c2acfb"
      },
      "execution_count": null,
      "outputs": [
        {
          "output_type": "execute_result",
          "data": {
            "text/plain": [
              "LinearRegressionModelv3(\n",
              "  (Linear_layer): Linear(in_features=1, out_features=1, bias=True)\n",
              ")"
            ]
          },
          "metadata": {},
          "execution_count": 11
        }
      ]
    },
    {
      "cell_type": "code",
      "source": [
        "loaded_model_2.eval()\n",
        "with torch.inference_mode():\n",
        "  Loaded_2_preds=loaded_model_2(X_test)\n",
        "\n",
        "print(y_pred_final==Loaded_2_preds)"
      ],
      "metadata": {
        "colab": {
          "base_uri": "https://localhost:8080/"
        },
        "id": "Rwk0Gmh3sTCj",
        "outputId": "6691cff6-221f-4da9-cfad-a72140ef685c"
      },
      "execution_count": null,
      "outputs": [
        {
          "output_type": "stream",
          "name": "stdout",
          "text": [
            "tensor([[True],\n",
            "        [True],\n",
            "        [True],\n",
            "        [True],\n",
            "        [True],\n",
            "        [True],\n",
            "        [True],\n",
            "        [True],\n",
            "        [True],\n",
            "        [True],\n",
            "        [True],\n",
            "        [True],\n",
            "        [True],\n",
            "        [True],\n",
            "        [True],\n",
            "        [True],\n",
            "        [True],\n",
            "        [True],\n",
            "        [True],\n",
            "        [True]], device='cuda:0')\n"
          ]
        }
      ]
    }
  ]
}